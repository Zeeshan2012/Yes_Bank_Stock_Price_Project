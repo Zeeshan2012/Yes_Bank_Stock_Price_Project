{
  "nbformat": 4,
  "nbformat_minor": 0,
  "metadata": {
    "colab": {
      "provenance": [],
      "collapsed_sections": [],
      "mount_file_id": "1NYX1c3b04YwncCsJpQdGjxVZuZUiNAUz",
      "authorship_tag": "ABX9TyOOw3YIHajvbY1xe498kOKl",
      "include_colab_link": true
    },
    "kernelspec": {
      "name": "python3",
      "display_name": "Python 3"
    },
    "language_info": {
      "name": "python"
    }
  },
  "cells": [
    {
      "cell_type": "markdown",
      "metadata": {
        "id": "view-in-github",
        "colab_type": "text"
      },
      "source": [
        "<a href=\"https://colab.research.google.com/github/Zeeshan2012/Yes_Bank_Stock_Price_Project/blob/main/Yes_Bank_Share_Price_Prediction.ipynb\" target=\"_parent\"><img src=\"https://colab.research.google.com/assets/colab-badge.svg\" alt=\"Open In Colab\"/></a>"
      ]
    },
    {
      "cell_type": "markdown",
      "source": [
        "# Yes Bank is a well-known bank in the Indian financial domain. Since 2018, it has been in thenews because of the fraud case involving Rana Kapoor. Owing to this fact, it was interestingto see how that impacted the stock prices of the company and whether Time series modelsor any other predictive models can do justice to such situations. This dataset has monthlystock prices of the bank since its inception and includes closing, starting, highest, and loweststock prices of every month. The main objective is to predict the stock’s closing price of themonth."
      ],
      "metadata": {
        "id": "5L7vwn_s51qM"
      }
    },
    {
      "cell_type": "code",
      "source": [
        "from google.colab import drive\n",
        "drive.mount('/content/drive')"
      ],
      "metadata": {
        "id": "X-bbWDcw41UI",
        "colab": {
          "base_uri": "https://localhost:8080/"
        },
        "outputId": "3525b71d-a242-446a-e6ed-95eaa8125b16"
      },
      "execution_count": 2,
      "outputs": [
        {
          "output_type": "stream",
          "name": "stdout",
          "text": [
            "Drive already mounted at /content/drive; to attempt to forcibly remount, call drive.mount(\"/content/drive\", force_remount=True).\n"
          ]
        }
      ]
    },
    {
      "cell_type": "markdown",
      "source": [
        "Here in this project, our objective is, in order to predict the stock's closing price of the month there are few things that'll be required or you can say that (mandatory) to perform regression analysis or building a better model which can easily and accurately predict our desired output.\n",
        "\n",
        "So, to build a well performing model, we have divided our task into several steps:\n",
        "\n",
        "Feature Engineering: Introducing New Variables, Dummy Variables\n",
        "\n",
        "Univariate Analysis: Distplot, Histogram, Barplot\n",
        "\n",
        "Bivariate Analysis: Boxplot, Heatmap,\n",
        "\n",
        "Introduced Models: Linear Regression, Lasso and Ridge\n",
        "\n",
        "Our Data has following features (Column):\n",
        "\n",
        "1. Open : Opening price of the stock of particular day\n",
        "2. High : It's the highest price at which a stock traded during a period\n",
        "3. Low : It's the lowest price at which stock traded during a period\n",
        "4. Close : Closing price of a stock at the end of a Trading Day\n",
        "5. Date : We will use it as a index"
      ],
      "metadata": {
        "id": "CHIbC8428amo"
      }
    },
    {
      "cell_type": "code",
      "execution_count": 31,
      "metadata": {
        "id": "7VPeND1g5cVc"
      },
      "outputs": [],
      "source": [
        "import numpy as np\n",
        "import pandas as pd\n",
        "import matplotlib.pyplot as plt\n",
        "import seaborn as sns\n",
        "import warnings\n",
        "warnings.filterwarnings('ignore')"
      ]
    },
    {
      "cell_type": "code",
      "source": [
        "data=pd.read_csv('/content/drive/MyDrive/Colab Notebooks/YES_Bank_Stock_Price_prediction/data_YesBank_StockPrices.csv') #reading the csv file"
      ],
      "metadata": {
        "id": "7HJ7RGpR9tZ4"
      },
      "execution_count": 104,
      "outputs": []
    },
    {
      "cell_type": "code",
      "source": [
        "#copy the data to df\n",
        "df = data.copy()"
      ],
      "metadata": {
        "id": "-m6n1KHI9-zJ"
      },
      "execution_count": 105,
      "outputs": []
    },
    {
      "cell_type": "code",
      "source": [
        "df.head()"
      ],
      "metadata": {
        "colab": {
          "base_uri": "https://localhost:8080/",
          "height": 206
        },
        "id": "hTi5Jp0B-E4t",
        "outputId": "1bb1feb0-106c-4dc2-fe7c-e27a8ca3bd07"
      },
      "execution_count": 34,
      "outputs": [
        {
          "output_type": "execute_result",
          "data": {
            "text/plain": [
              "     Date   Open   High    Low  Close\n",
              "0  Jul-05  13.00  14.00  11.25  12.46\n",
              "1  Aug-05  12.58  14.88  12.55  13.42\n",
              "2  Sep-05  13.48  14.87  12.27  13.30\n",
              "3  Oct-05  13.20  14.47  12.40  12.99\n",
              "4  Nov-05  13.35  13.88  12.88  13.41"
            ],
            "text/html": [
              "\n",
              "  <div id=\"df-06f9d849-bb37-49ae-aea7-926fa18d80bd\">\n",
              "    <div class=\"colab-df-container\">\n",
              "      <div>\n",
              "<style scoped>\n",
              "    .dataframe tbody tr th:only-of-type {\n",
              "        vertical-align: middle;\n",
              "    }\n",
              "\n",
              "    .dataframe tbody tr th {\n",
              "        vertical-align: top;\n",
              "    }\n",
              "\n",
              "    .dataframe thead th {\n",
              "        text-align: right;\n",
              "    }\n",
              "</style>\n",
              "<table border=\"1\" class=\"dataframe\">\n",
              "  <thead>\n",
              "    <tr style=\"text-align: right;\">\n",
              "      <th></th>\n",
              "      <th>Date</th>\n",
              "      <th>Open</th>\n",
              "      <th>High</th>\n",
              "      <th>Low</th>\n",
              "      <th>Close</th>\n",
              "    </tr>\n",
              "  </thead>\n",
              "  <tbody>\n",
              "    <tr>\n",
              "      <th>0</th>\n",
              "      <td>Jul-05</td>\n",
              "      <td>13.00</td>\n",
              "      <td>14.00</td>\n",
              "      <td>11.25</td>\n",
              "      <td>12.46</td>\n",
              "    </tr>\n",
              "    <tr>\n",
              "      <th>1</th>\n",
              "      <td>Aug-05</td>\n",
              "      <td>12.58</td>\n",
              "      <td>14.88</td>\n",
              "      <td>12.55</td>\n",
              "      <td>13.42</td>\n",
              "    </tr>\n",
              "    <tr>\n",
              "      <th>2</th>\n",
              "      <td>Sep-05</td>\n",
              "      <td>13.48</td>\n",
              "      <td>14.87</td>\n",
              "      <td>12.27</td>\n",
              "      <td>13.30</td>\n",
              "    </tr>\n",
              "    <tr>\n",
              "      <th>3</th>\n",
              "      <td>Oct-05</td>\n",
              "      <td>13.20</td>\n",
              "      <td>14.47</td>\n",
              "      <td>12.40</td>\n",
              "      <td>12.99</td>\n",
              "    </tr>\n",
              "    <tr>\n",
              "      <th>4</th>\n",
              "      <td>Nov-05</td>\n",
              "      <td>13.35</td>\n",
              "      <td>13.88</td>\n",
              "      <td>12.88</td>\n",
              "      <td>13.41</td>\n",
              "    </tr>\n",
              "  </tbody>\n",
              "</table>\n",
              "</div>\n",
              "      <button class=\"colab-df-convert\" onclick=\"convertToInteractive('df-06f9d849-bb37-49ae-aea7-926fa18d80bd')\"\n",
              "              title=\"Convert this dataframe to an interactive table.\"\n",
              "              style=\"display:none;\">\n",
              "        \n",
              "  <svg xmlns=\"http://www.w3.org/2000/svg\" height=\"24px\"viewBox=\"0 0 24 24\"\n",
              "       width=\"24px\">\n",
              "    <path d=\"M0 0h24v24H0V0z\" fill=\"none\"/>\n",
              "    <path d=\"M18.56 5.44l.94 2.06.94-2.06 2.06-.94-2.06-.94-.94-2.06-.94 2.06-2.06.94zm-11 1L8.5 8.5l.94-2.06 2.06-.94-2.06-.94L8.5 2.5l-.94 2.06-2.06.94zm10 10l.94 2.06.94-2.06 2.06-.94-2.06-.94-.94-2.06-.94 2.06-2.06.94z\"/><path d=\"M17.41 7.96l-1.37-1.37c-.4-.4-.92-.59-1.43-.59-.52 0-1.04.2-1.43.59L10.3 9.45l-7.72 7.72c-.78.78-.78 2.05 0 2.83L4 21.41c.39.39.9.59 1.41.59.51 0 1.02-.2 1.41-.59l7.78-7.78 2.81-2.81c.8-.78.8-2.07 0-2.86zM5.41 20L4 18.59l7.72-7.72 1.47 1.35L5.41 20z\"/>\n",
              "  </svg>\n",
              "      </button>\n",
              "      \n",
              "  <style>\n",
              "    .colab-df-container {\n",
              "      display:flex;\n",
              "      flex-wrap:wrap;\n",
              "      gap: 12px;\n",
              "    }\n",
              "\n",
              "    .colab-df-convert {\n",
              "      background-color: #E8F0FE;\n",
              "      border: none;\n",
              "      border-radius: 50%;\n",
              "      cursor: pointer;\n",
              "      display: none;\n",
              "      fill: #1967D2;\n",
              "      height: 32px;\n",
              "      padding: 0 0 0 0;\n",
              "      width: 32px;\n",
              "    }\n",
              "\n",
              "    .colab-df-convert:hover {\n",
              "      background-color: #E2EBFA;\n",
              "      box-shadow: 0px 1px 2px rgba(60, 64, 67, 0.3), 0px 1px 3px 1px rgba(60, 64, 67, 0.15);\n",
              "      fill: #174EA6;\n",
              "    }\n",
              "\n",
              "    [theme=dark] .colab-df-convert {\n",
              "      background-color: #3B4455;\n",
              "      fill: #D2E3FC;\n",
              "    }\n",
              "\n",
              "    [theme=dark] .colab-df-convert:hover {\n",
              "      background-color: #434B5C;\n",
              "      box-shadow: 0px 1px 3px 1px rgba(0, 0, 0, 0.15);\n",
              "      filter: drop-shadow(0px 1px 2px rgba(0, 0, 0, 0.3));\n",
              "      fill: #FFFFFF;\n",
              "    }\n",
              "  </style>\n",
              "\n",
              "      <script>\n",
              "        const buttonEl =\n",
              "          document.querySelector('#df-06f9d849-bb37-49ae-aea7-926fa18d80bd button.colab-df-convert');\n",
              "        buttonEl.style.display =\n",
              "          google.colab.kernel.accessAllowed ? 'block' : 'none';\n",
              "\n",
              "        async function convertToInteractive(key) {\n",
              "          const element = document.querySelector('#df-06f9d849-bb37-49ae-aea7-926fa18d80bd');\n",
              "          const dataTable =\n",
              "            await google.colab.kernel.invokeFunction('convertToInteractive',\n",
              "                                                     [key], {});\n",
              "          if (!dataTable) return;\n",
              "\n",
              "          const docLinkHtml = 'Like what you see? Visit the ' +\n",
              "            '<a target=\"_blank\" href=https://colab.research.google.com/notebooks/data_table.ipynb>data table notebook</a>'\n",
              "            + ' to learn more about interactive tables.';\n",
              "          element.innerHTML = '';\n",
              "          dataTable['output_type'] = 'display_data';\n",
              "          await google.colab.output.renderOutput(dataTable, element);\n",
              "          const docLink = document.createElement('div');\n",
              "          docLink.innerHTML = docLinkHtml;\n",
              "          element.appendChild(docLink);\n",
              "        }\n",
              "      </script>\n",
              "    </div>\n",
              "  </div>\n",
              "  "
            ]
          },
          "metadata": {},
          "execution_count": 34
        }
      ]
    },
    {
      "cell_type": "code",
      "source": [
        "#get the number of rows and columns in the dataset \n",
        "df.shape"
      ],
      "metadata": {
        "colab": {
          "base_uri": "https://localhost:8080/"
        },
        "id": "gu1zdJIw-T9F",
        "outputId": "afd7ee84-c8f2-4630-a104-9d819cb66c4e"
      },
      "execution_count": null,
      "outputs": [
        {
          "output_type": "execute_result",
          "data": {
            "text/plain": [
              "(185, 5)"
            ]
          },
          "metadata": {},
          "execution_count": 6
        }
      ]
    },
    {
      "cell_type": "code",
      "source": [
        "#getting the info of our dataset\n",
        "df.info()"
      ],
      "metadata": {
        "colab": {
          "base_uri": "https://localhost:8080/"
        },
        "id": "l5SDxXfY-lyQ",
        "outputId": "2466e97f-72b3-4300-fd00-09c0c4c0acd4"
      },
      "execution_count": null,
      "outputs": [
        {
          "output_type": "stream",
          "name": "stdout",
          "text": [
            "<class 'pandas.core.frame.DataFrame'>\n",
            "RangeIndex: 185 entries, 0 to 184\n",
            "Data columns (total 5 columns):\n",
            " #   Column  Non-Null Count  Dtype  \n",
            "---  ------  --------------  -----  \n",
            " 0   Date    185 non-null    object \n",
            " 1   Open    185 non-null    float64\n",
            " 2   High    185 non-null    float64\n",
            " 3   Low     185 non-null    float64\n",
            " 4   Close   185 non-null    float64\n",
            "dtypes: float64(4), object(1)\n",
            "memory usage: 7.4+ KB\n"
          ]
        }
      ]
    },
    {
      "cell_type": "markdown",
      "source": [
        "There is no null value.\n",
        "We need to correct date time in correct format\n"
      ],
      "metadata": {
        "id": "PbO_GvG_-zsP"
      }
    },
    {
      "cell_type": "code",
      "source": [
        "#check for duplicates\n",
        "len(df[df.duplicated()])"
      ],
      "metadata": {
        "colab": {
          "base_uri": "https://localhost:8080/"
        },
        "id": "xT6HtT5lENmt",
        "outputId": "f02e5cbc-3617-4b54-a47f-cd8917a25b1e"
      },
      "execution_count": null,
      "outputs": [
        {
          "output_type": "execute_result",
          "data": {
            "text/plain": [
              "0"
            ]
          },
          "metadata": {},
          "execution_count": 7
        }
      ]
    },
    {
      "cell_type": "code",
      "source": [
        "#importing datetime\n",
        "from datetime import datetime\n",
        "df['Date'] = df['Date'].apply(lambda x: datetime.strptime(x, '%b-%y'))"
      ],
      "metadata": {
        "id": "oQIfHE_h_Ckj"
      },
      "execution_count": 106,
      "outputs": []
    },
    {
      "cell_type": "code",
      "source": [
        "df.head()"
      ],
      "metadata": {
        "colab": {
          "base_uri": "https://localhost:8080/",
          "height": 206
        },
        "id": "snzZexS4CaxK",
        "outputId": "72eb583c-3b9f-4fcc-ee31-334e66b7bdc0"
      },
      "execution_count": 36,
      "outputs": [
        {
          "output_type": "execute_result",
          "data": {
            "text/plain": [
              "        Date   Open   High    Low  Close\n",
              "0 2005-07-01  13.00  14.00  11.25  12.46\n",
              "1 2005-08-01  12.58  14.88  12.55  13.42\n",
              "2 2005-09-01  13.48  14.87  12.27  13.30\n",
              "3 2005-10-01  13.20  14.47  12.40  12.99\n",
              "4 2005-11-01  13.35  13.88  12.88  13.41"
            ],
            "text/html": [
              "\n",
              "  <div id=\"df-be2c400a-a2c0-4d7f-975e-697d3bd7a4b7\">\n",
              "    <div class=\"colab-df-container\">\n",
              "      <div>\n",
              "<style scoped>\n",
              "    .dataframe tbody tr th:only-of-type {\n",
              "        vertical-align: middle;\n",
              "    }\n",
              "\n",
              "    .dataframe tbody tr th {\n",
              "        vertical-align: top;\n",
              "    }\n",
              "\n",
              "    .dataframe thead th {\n",
              "        text-align: right;\n",
              "    }\n",
              "</style>\n",
              "<table border=\"1\" class=\"dataframe\">\n",
              "  <thead>\n",
              "    <tr style=\"text-align: right;\">\n",
              "      <th></th>\n",
              "      <th>Date</th>\n",
              "      <th>Open</th>\n",
              "      <th>High</th>\n",
              "      <th>Low</th>\n",
              "      <th>Close</th>\n",
              "    </tr>\n",
              "  </thead>\n",
              "  <tbody>\n",
              "    <tr>\n",
              "      <th>0</th>\n",
              "      <td>2005-07-01</td>\n",
              "      <td>13.00</td>\n",
              "      <td>14.00</td>\n",
              "      <td>11.25</td>\n",
              "      <td>12.46</td>\n",
              "    </tr>\n",
              "    <tr>\n",
              "      <th>1</th>\n",
              "      <td>2005-08-01</td>\n",
              "      <td>12.58</td>\n",
              "      <td>14.88</td>\n",
              "      <td>12.55</td>\n",
              "      <td>13.42</td>\n",
              "    </tr>\n",
              "    <tr>\n",
              "      <th>2</th>\n",
              "      <td>2005-09-01</td>\n",
              "      <td>13.48</td>\n",
              "      <td>14.87</td>\n",
              "      <td>12.27</td>\n",
              "      <td>13.30</td>\n",
              "    </tr>\n",
              "    <tr>\n",
              "      <th>3</th>\n",
              "      <td>2005-10-01</td>\n",
              "      <td>13.20</td>\n",
              "      <td>14.47</td>\n",
              "      <td>12.40</td>\n",
              "      <td>12.99</td>\n",
              "    </tr>\n",
              "    <tr>\n",
              "      <th>4</th>\n",
              "      <td>2005-11-01</td>\n",
              "      <td>13.35</td>\n",
              "      <td>13.88</td>\n",
              "      <td>12.88</td>\n",
              "      <td>13.41</td>\n",
              "    </tr>\n",
              "  </tbody>\n",
              "</table>\n",
              "</div>\n",
              "      <button class=\"colab-df-convert\" onclick=\"convertToInteractive('df-be2c400a-a2c0-4d7f-975e-697d3bd7a4b7')\"\n",
              "              title=\"Convert this dataframe to an interactive table.\"\n",
              "              style=\"display:none;\">\n",
              "        \n",
              "  <svg xmlns=\"http://www.w3.org/2000/svg\" height=\"24px\"viewBox=\"0 0 24 24\"\n",
              "       width=\"24px\">\n",
              "    <path d=\"M0 0h24v24H0V0z\" fill=\"none\"/>\n",
              "    <path d=\"M18.56 5.44l.94 2.06.94-2.06 2.06-.94-2.06-.94-.94-2.06-.94 2.06-2.06.94zm-11 1L8.5 8.5l.94-2.06 2.06-.94-2.06-.94L8.5 2.5l-.94 2.06-2.06.94zm10 10l.94 2.06.94-2.06 2.06-.94-2.06-.94-.94-2.06-.94 2.06-2.06.94z\"/><path d=\"M17.41 7.96l-1.37-1.37c-.4-.4-.92-.59-1.43-.59-.52 0-1.04.2-1.43.59L10.3 9.45l-7.72 7.72c-.78.78-.78 2.05 0 2.83L4 21.41c.39.39.9.59 1.41.59.51 0 1.02-.2 1.41-.59l7.78-7.78 2.81-2.81c.8-.78.8-2.07 0-2.86zM5.41 20L4 18.59l7.72-7.72 1.47 1.35L5.41 20z\"/>\n",
              "  </svg>\n",
              "      </button>\n",
              "      \n",
              "  <style>\n",
              "    .colab-df-container {\n",
              "      display:flex;\n",
              "      flex-wrap:wrap;\n",
              "      gap: 12px;\n",
              "    }\n",
              "\n",
              "    .colab-df-convert {\n",
              "      background-color: #E8F0FE;\n",
              "      border: none;\n",
              "      border-radius: 50%;\n",
              "      cursor: pointer;\n",
              "      display: none;\n",
              "      fill: #1967D2;\n",
              "      height: 32px;\n",
              "      padding: 0 0 0 0;\n",
              "      width: 32px;\n",
              "    }\n",
              "\n",
              "    .colab-df-convert:hover {\n",
              "      background-color: #E2EBFA;\n",
              "      box-shadow: 0px 1px 2px rgba(60, 64, 67, 0.3), 0px 1px 3px 1px rgba(60, 64, 67, 0.15);\n",
              "      fill: #174EA6;\n",
              "    }\n",
              "\n",
              "    [theme=dark] .colab-df-convert {\n",
              "      background-color: #3B4455;\n",
              "      fill: #D2E3FC;\n",
              "    }\n",
              "\n",
              "    [theme=dark] .colab-df-convert:hover {\n",
              "      background-color: #434B5C;\n",
              "      box-shadow: 0px 1px 3px 1px rgba(0, 0, 0, 0.15);\n",
              "      filter: drop-shadow(0px 1px 2px rgba(0, 0, 0, 0.3));\n",
              "      fill: #FFFFFF;\n",
              "    }\n",
              "  </style>\n",
              "\n",
              "      <script>\n",
              "        const buttonEl =\n",
              "          document.querySelector('#df-be2c400a-a2c0-4d7f-975e-697d3bd7a4b7 button.colab-df-convert');\n",
              "        buttonEl.style.display =\n",
              "          google.colab.kernel.accessAllowed ? 'block' : 'none';\n",
              "\n",
              "        async function convertToInteractive(key) {\n",
              "          const element = document.querySelector('#df-be2c400a-a2c0-4d7f-975e-697d3bd7a4b7');\n",
              "          const dataTable =\n",
              "            await google.colab.kernel.invokeFunction('convertToInteractive',\n",
              "                                                     [key], {});\n",
              "          if (!dataTable) return;\n",
              "\n",
              "          const docLinkHtml = 'Like what you see? Visit the ' +\n",
              "            '<a target=\"_blank\" href=https://colab.research.google.com/notebooks/data_table.ipynb>data table notebook</a>'\n",
              "            + ' to learn more about interactive tables.';\n",
              "          element.innerHTML = '';\n",
              "          dataTable['output_type'] = 'display_data';\n",
              "          await google.colab.output.renderOutput(dataTable, element);\n",
              "          const docLink = document.createElement('div');\n",
              "          docLink.innerHTML = docLinkHtml;\n",
              "          element.appendChild(docLink);\n",
              "        }\n",
              "      </script>\n",
              "    </div>\n",
              "  </div>\n",
              "  "
            ]
          },
          "metadata": {},
          "execution_count": 36
        }
      ]
    },
    {
      "cell_type": "code",
      "source": [
        "#desccriptive statistic\n",
        "df.describe()"
      ],
      "metadata": {
        "colab": {
          "base_uri": "https://localhost:8080/",
          "height": 300
        },
        "id": "IWnavs2tDqO3",
        "outputId": "0416f3fc-cde4-4d48-9438-b6514265b6ff"
      },
      "execution_count": 37,
      "outputs": [
        {
          "output_type": "execute_result",
          "data": {
            "text/plain": [
              "             Open        High         Low       Close\n",
              "count  185.000000  185.000000  185.000000  185.000000\n",
              "mean   105.541405  116.104324   94.947838  105.204703\n",
              "std     98.879850  106.333497   91.219415   98.583153\n",
              "min     10.000000   11.240000    5.550000    9.980000\n",
              "25%     33.800000   36.140000   28.510000   33.450000\n",
              "50%     62.980000   72.550000   58.000000   62.540000\n",
              "75%    153.000000  169.190000  138.350000  153.300000\n",
              "max    369.950000  404.000000  345.500000  367.900000"
            ],
            "text/html": [
              "\n",
              "  <div id=\"df-e2b72600-57dc-4003-af59-a1ea7133d2fe\">\n",
              "    <div class=\"colab-df-container\">\n",
              "      <div>\n",
              "<style scoped>\n",
              "    .dataframe tbody tr th:only-of-type {\n",
              "        vertical-align: middle;\n",
              "    }\n",
              "\n",
              "    .dataframe tbody tr th {\n",
              "        vertical-align: top;\n",
              "    }\n",
              "\n",
              "    .dataframe thead th {\n",
              "        text-align: right;\n",
              "    }\n",
              "</style>\n",
              "<table border=\"1\" class=\"dataframe\">\n",
              "  <thead>\n",
              "    <tr style=\"text-align: right;\">\n",
              "      <th></th>\n",
              "      <th>Open</th>\n",
              "      <th>High</th>\n",
              "      <th>Low</th>\n",
              "      <th>Close</th>\n",
              "    </tr>\n",
              "  </thead>\n",
              "  <tbody>\n",
              "    <tr>\n",
              "      <th>count</th>\n",
              "      <td>185.000000</td>\n",
              "      <td>185.000000</td>\n",
              "      <td>185.000000</td>\n",
              "      <td>185.000000</td>\n",
              "    </tr>\n",
              "    <tr>\n",
              "      <th>mean</th>\n",
              "      <td>105.541405</td>\n",
              "      <td>116.104324</td>\n",
              "      <td>94.947838</td>\n",
              "      <td>105.204703</td>\n",
              "    </tr>\n",
              "    <tr>\n",
              "      <th>std</th>\n",
              "      <td>98.879850</td>\n",
              "      <td>106.333497</td>\n",
              "      <td>91.219415</td>\n",
              "      <td>98.583153</td>\n",
              "    </tr>\n",
              "    <tr>\n",
              "      <th>min</th>\n",
              "      <td>10.000000</td>\n",
              "      <td>11.240000</td>\n",
              "      <td>5.550000</td>\n",
              "      <td>9.980000</td>\n",
              "    </tr>\n",
              "    <tr>\n",
              "      <th>25%</th>\n",
              "      <td>33.800000</td>\n",
              "      <td>36.140000</td>\n",
              "      <td>28.510000</td>\n",
              "      <td>33.450000</td>\n",
              "    </tr>\n",
              "    <tr>\n",
              "      <th>50%</th>\n",
              "      <td>62.980000</td>\n",
              "      <td>72.550000</td>\n",
              "      <td>58.000000</td>\n",
              "      <td>62.540000</td>\n",
              "    </tr>\n",
              "    <tr>\n",
              "      <th>75%</th>\n",
              "      <td>153.000000</td>\n",
              "      <td>169.190000</td>\n",
              "      <td>138.350000</td>\n",
              "      <td>153.300000</td>\n",
              "    </tr>\n",
              "    <tr>\n",
              "      <th>max</th>\n",
              "      <td>369.950000</td>\n",
              "      <td>404.000000</td>\n",
              "      <td>345.500000</td>\n",
              "      <td>367.900000</td>\n",
              "    </tr>\n",
              "  </tbody>\n",
              "</table>\n",
              "</div>\n",
              "      <button class=\"colab-df-convert\" onclick=\"convertToInteractive('df-e2b72600-57dc-4003-af59-a1ea7133d2fe')\"\n",
              "              title=\"Convert this dataframe to an interactive table.\"\n",
              "              style=\"display:none;\">\n",
              "        \n",
              "  <svg xmlns=\"http://www.w3.org/2000/svg\" height=\"24px\"viewBox=\"0 0 24 24\"\n",
              "       width=\"24px\">\n",
              "    <path d=\"M0 0h24v24H0V0z\" fill=\"none\"/>\n",
              "    <path d=\"M18.56 5.44l.94 2.06.94-2.06 2.06-.94-2.06-.94-.94-2.06-.94 2.06-2.06.94zm-11 1L8.5 8.5l.94-2.06 2.06-.94-2.06-.94L8.5 2.5l-.94 2.06-2.06.94zm10 10l.94 2.06.94-2.06 2.06-.94-2.06-.94-.94-2.06-.94 2.06-2.06.94z\"/><path d=\"M17.41 7.96l-1.37-1.37c-.4-.4-.92-.59-1.43-.59-.52 0-1.04.2-1.43.59L10.3 9.45l-7.72 7.72c-.78.78-.78 2.05 0 2.83L4 21.41c.39.39.9.59 1.41.59.51 0 1.02-.2 1.41-.59l7.78-7.78 2.81-2.81c.8-.78.8-2.07 0-2.86zM5.41 20L4 18.59l7.72-7.72 1.47 1.35L5.41 20z\"/>\n",
              "  </svg>\n",
              "      </button>\n",
              "      \n",
              "  <style>\n",
              "    .colab-df-container {\n",
              "      display:flex;\n",
              "      flex-wrap:wrap;\n",
              "      gap: 12px;\n",
              "    }\n",
              "\n",
              "    .colab-df-convert {\n",
              "      background-color: #E8F0FE;\n",
              "      border: none;\n",
              "      border-radius: 50%;\n",
              "      cursor: pointer;\n",
              "      display: none;\n",
              "      fill: #1967D2;\n",
              "      height: 32px;\n",
              "      padding: 0 0 0 0;\n",
              "      width: 32px;\n",
              "    }\n",
              "\n",
              "    .colab-df-convert:hover {\n",
              "      background-color: #E2EBFA;\n",
              "      box-shadow: 0px 1px 2px rgba(60, 64, 67, 0.3), 0px 1px 3px 1px rgba(60, 64, 67, 0.15);\n",
              "      fill: #174EA6;\n",
              "    }\n",
              "\n",
              "    [theme=dark] .colab-df-convert {\n",
              "      background-color: #3B4455;\n",
              "      fill: #D2E3FC;\n",
              "    }\n",
              "\n",
              "    [theme=dark] .colab-df-convert:hover {\n",
              "      background-color: #434B5C;\n",
              "      box-shadow: 0px 1px 3px 1px rgba(0, 0, 0, 0.15);\n",
              "      filter: drop-shadow(0px 1px 2px rgba(0, 0, 0, 0.3));\n",
              "      fill: #FFFFFF;\n",
              "    }\n",
              "  </style>\n",
              "\n",
              "      <script>\n",
              "        const buttonEl =\n",
              "          document.querySelector('#df-e2b72600-57dc-4003-af59-a1ea7133d2fe button.colab-df-convert');\n",
              "        buttonEl.style.display =\n",
              "          google.colab.kernel.accessAllowed ? 'block' : 'none';\n",
              "\n",
              "        async function convertToInteractive(key) {\n",
              "          const element = document.querySelector('#df-e2b72600-57dc-4003-af59-a1ea7133d2fe');\n",
              "          const dataTable =\n",
              "            await google.colab.kernel.invokeFunction('convertToInteractive',\n",
              "                                                     [key], {});\n",
              "          if (!dataTable) return;\n",
              "\n",
              "          const docLinkHtml = 'Like what you see? Visit the ' +\n",
              "            '<a target=\"_blank\" href=https://colab.research.google.com/notebooks/data_table.ipynb>data table notebook</a>'\n",
              "            + ' to learn more about interactive tables.';\n",
              "          element.innerHTML = '';\n",
              "          dataTable['output_type'] = 'display_data';\n",
              "          await google.colab.output.renderOutput(dataTable, element);\n",
              "          const docLink = document.createElement('div');\n",
              "          docLink.innerHTML = docLinkHtml;\n",
              "          element.appendChild(docLink);\n",
              "        }\n",
              "      </script>\n",
              "    </div>\n",
              "  </div>\n",
              "  "
            ]
          },
          "metadata": {},
          "execution_count": 37
        }
      ]
    },
    {
      "cell_type": "markdown",
      "source": [
        "There is a high variation in values of Open,High,Low and Close\n",
        "\n",
        "check for distribution of our dataset"
      ],
      "metadata": {
        "id": "uebaQK-VDzh2"
      }
    },
    {
      "cell_type": "code",
      "source": [
        "#plot the Distribution graph\n",
        "#plot for independent variable\n",
        "for var in df:\n",
        "    plt.figure(figsize=(15,6))\n",
        "    plt.subplot(1, 2, 1)\n",
        "    fig = sns.distplot(df[var],color='purple')\n",
        "    fig.set_ylabel(' ')\n",
        "    fig.set_xlabel(var) \n"
      ],
      "metadata": {
        "colab": {
          "base_uri": "https://localhost:8080/",
          "height": 1000
        },
        "id": "n1tZCN8MEKty",
        "outputId": "409a18fc-13e4-422b-9821-743b43c0930d"
      },
      "execution_count": 38,
      "outputs": [
        {
          "output_type": "display_data",
          "data": {
            "text/plain": [
              "<Figure size 1080x432 with 1 Axes>"
            ],
            "image/png": "[encoded data removed]"
          },
          "metadata": {
            "needs_background": "light"
          }
        },
        {
          "output_type": "display_data",
          "data": {
            "text/plain": [
              "<Figure size 1080x432 with 1 Axes>"
            ],
            "image/png": "[encoded data removed]"
          },
          "metadata": {
            "needs_background": "light"
          }
        },
        {
          "output_type": "display_data",
          "data": {
            "text/plain": [
              "<Figure size 1080x432 with 1 Axes>"
            ],
            "image/png": "[encoded data removed]"
          },
          "metadata": {
            "needs_background": "light"
          }
        },
        {
          "output_type": "display_data",
          "data": {
            "text/plain": [
              "<Figure size 1080x432 with 1 Axes>"
            ],
            "image/png": "[encoded data removed]"
          },
          "metadata": {
            "needs_background": "light"
          }
        },
        {
          "output_type": "display_data",
          "data": {
            "text/plain": [
              "<Figure size 1080x432 with 1 Axes>"
            ],
            "image/png": "[encoded data removed]"
          },
          "metadata": {
            "needs_background": "light"
          }
        }
      ]
    },
    {
      "cell_type": "markdown",
      "source": [
        "Ignore the Date Graph and\n",
        "we can see the data is positively screwed so we need to apply log transformation.\n"
      ],
      "metadata": {
        "id": "qT0Xebv4NuqC"
      }
    },
    {
      "cell_type": "code",
      "source": [
        "plt.figure(figsize=(10,8))\n",
        "fig = sns.boxplot(data = df, color = 'red')\n"
      ],
      "metadata": {
        "colab": {
          "base_uri": "https://localhost:8080/",
          "height": 483
        },
        "id": "KPIG5720MJ_0",
        "outputId": "60a9a69e-379d-4b30-a355-05f4d4841b05"
      },
      "execution_count": 39,
      "outputs": [
        {
          "output_type": "display_data",
          "data": {
            "text/plain": [
              "<Figure size 720x576 with 1 Axes>"
            ],
            "image/png": "[encoded data removed]"
          },
          "metadata": {
            "needs_background": "light"
          }
        }
      ]
    },
    {
      "cell_type": "code",
      "source": [
        "#we will store dependent and independent variable separetly\n",
        "ind_var = df[['Open','High','Low']]\n",
        "dep_var = df[['Close']]"
      ],
      "metadata": {
        "id": "KmyiOl6BOI_-"
      },
      "execution_count": 40,
      "outputs": []
    },
    {
      "cell_type": "code",
      "source": [
        "#plot the Graph with Log transformation\n",
        "for var in ind_var:\n",
        "  plt.figure(figsize = (10,8))\n",
        "  plt.subplot(1,2,1)\n",
        "  fig = sns.distplot(np.log10(ind_var[var]), color = 'blue')\n",
        "  fig.set_xlabel(var)\n",
        "\n",
        "  plt.subplot(1,2,2)\n",
        "  fig = sns.boxplot(y = np.log10(ind_var[var]), color = 'red')"
      ],
      "metadata": {
        "colab": {
          "base_uri": "https://localhost:8080/",
          "height": 1000
        },
        "id": "utx6PE-1Okyx",
        "outputId": "0a5888da-56e3-4d74-baa2-adfad3abc696"
      },
      "execution_count": 41,
      "outputs": [
        {
          "output_type": "display_data",
          "data": {
            "text/plain": [
              "<Figure size 720x576 with 2 Axes>"
            ],
            "image/png": "[encoded data removed]"
          },
          "metadata": {
            "needs_background": "light"
          }
        },
        {
          "output_type": "display_data",
          "data": {
            "text/plain": [
              "<Figure size 720x576 with 2 Axes>"
            ],
            "image/png": "[encoded data removed]"
          },
          "metadata": {
            "needs_background": "light"
          }
        },
        {
          "output_type": "display_data",
          "data": {
            "text/plain": [
              "<Figure size 720x576 with 2 Axes>"
            ],
            "image/png": "[encoded data removed]"
          },
          "metadata": {
            "needs_background": "light"
          }
        }
      ]
    },
    {
      "cell_type": "code",
      "source": [
        "#now check for correlation between Dependent variable and HIGH,OPEN,CLOSE PRICE\n",
        "for col in ind_var:\n",
        "   fig = plt.figure(figsize=(9, 6))\n",
        "   ax = fig.gca()\n",
        "   feature = df[col]\n",
        "   label = df['Close']\n",
        "   correlation = feature.corr(label)\n",
        "   plt.scatter(x=feature, y=label)\n",
        "   plt.xlabel(col)\n",
        "   plt.ylabel('closing Price')\n",
        "   ax.set_title('closing Price - ' + col + ' correlation: ' + str(correlation))\n",
        "   z = np.polyfit(df[col], df['Close'], 1)\n",
        "   y_hat = np.poly1d(z)(df[col])\n",
        " \n",
        "   plt.plot(df[col], y_hat, \"r--\", lw=1)\n",
        " \n",
        "plt.show()"
      ],
      "metadata": {
        "colab": {
          "base_uri": "https://localhost:8080/",
          "height": 1000
        },
        "id": "0iERGmxxH2It",
        "outputId": "a081234e-ec76-46c4-8a68-d0f494d0589d"
      },
      "execution_count": 42,
      "outputs": [
        {
          "output_type": "display_data",
          "data": {
            "text/plain": [
              "<Figure size 648x432 with 1 Axes>"
            ],
            "image/png": "[encoded data removed]"
          },
          "metadata": {
            "needs_background": "light"
          }
        },
        {
          "output_type": "display_data",
          "data": {
            "text/plain": [
              "<Figure size 648x432 with 1 Axes>"
            ],
            "image/png": "[encoded data removed]"
          },
          "metadata": {
            "needs_background": "light"
          }
        },
        {
          "output_type": "display_data",
          "data": {
            "text/plain": [
              "<Figure size 648x432 with 1 Axes>"
            ],
            "image/png": "[encoded data removed]"
          },
          "metadata": {
            "needs_background": "light"
          }
        }
      ]
    },
    {
      "cell_type": "markdown",
      "source": [
        "We can see there is a high Correlation between Independent and Dependent Variables\n",
        "\n",
        "now we will perform some feature engineering."
      ],
      "metadata": {
        "id": "Uamm9QR3clJV"
      }
    },
    {
      "cell_type": "code",
      "source": [
        "#adding Average , Month and Year Column in our dataset\n",
        "\n",
        "df['Average'] = (df['Low'] + df['High'])/2\n",
        "df['Month'] = df['Date'].apply(lambda y :y.strftime('%B'))\n",
        "df['Year'] = df['Date'].apply(lambda y :y.strftime('%Y'))"
      ],
      "metadata": {
        "id": "i0YIiQR2cgfG"
      },
      "execution_count": 107,
      "outputs": []
    },
    {
      "cell_type": "code",
      "source": [
        "#Making date column as index\n",
        "df.index = df['Date']\n",
        "df.drop('Date', axis = 1,inplace=True)"
      ],
      "metadata": {
        "id": "qnfvFdQXeGxd"
      },
      "execution_count": 108,
      "outputs": []
    },
    {
      "cell_type": "code",
      "source": [
        "df.head()"
      ],
      "metadata": {
        "colab": {
          "base_uri": "https://localhost:8080/",
          "height": 237
        },
        "id": "iXE1dNdheo0B",
        "outputId": "ae226b73-45e3-4335-8a2d-e633eef53d5e"
      },
      "execution_count": 109,
      "outputs": [
        {
          "output_type": "execute_result",
          "data": {
            "text/plain": [
              "             Open   High    Low  Close  Average      Month  Year\n",
              "Date                                                            \n",
              "2005-07-01  13.00  14.00  11.25  12.46   12.625       July  2005\n",
              "2005-08-01  12.58  14.88  12.55  13.42   13.715     August  2005\n",
              "2005-09-01  13.48  14.87  12.27  13.30   13.570  September  2005\n",
              "2005-10-01  13.20  14.47  12.40  12.99   13.435    October  2005\n",
              "2005-11-01  13.35  13.88  12.88  13.41   13.380   November  2005"
            ],
            "text/html": [
              "\n",
              "  <div id=\"df-95c65da8-27fb-4e4b-b678-42b784681b20\">\n",
              "    <div class=\"colab-df-container\">\n",
              "      <div>\n",
              "<style scoped>\n",
              "    .dataframe tbody tr th:only-of-type {\n",
              "        vertical-align: middle;\n",
              "    }\n",
              "\n",
              "    .dataframe tbody tr th {\n",
              "        vertical-align: top;\n",
              "    }\n",
              "\n",
              "    .dataframe thead th {\n",
              "        text-align: right;\n",
              "    }\n",
              "</style>\n",
              "<table border=\"1\" class=\"dataframe\">\n",
              "  <thead>\n",
              "    <tr style=\"text-align: right;\">\n",
              "      <th></th>\n",
              "      <th>Open</th>\n",
              "      <th>High</th>\n",
              "      <th>Low</th>\n",
              "      <th>Close</th>\n",
              "      <th>Average</th>\n",
              "      <th>Month</th>\n",
              "      <th>Year</th>\n",
              "    </tr>\n",
              "    <tr>\n",
              "      <th>Date</th>\n",
              "      <th></th>\n",
              "      <th></th>\n",
              "      <th></th>\n",
              "      <th></th>\n",
              "      <th></th>\n",
              "      <th></th>\n",
              "      <th></th>\n",
              "    </tr>\n",
              "  </thead>\n",
              "  <tbody>\n",
              "    <tr>\n",
              "      <th>2005-07-01</th>\n",
              "      <td>13.00</td>\n",
              "      <td>14.00</td>\n",
              "      <td>11.25</td>\n",
              "      <td>12.46</td>\n",
              "      <td>12.625</td>\n",
              "      <td>July</td>\n",
              "      <td>2005</td>\n",
              "    </tr>\n",
              "    <tr>\n",
              "      <th>2005-08-01</th>\n",
              "      <td>12.58</td>\n",
              "      <td>14.88</td>\n",
              "      <td>12.55</td>\n",
              "      <td>13.42</td>\n",
              "      <td>13.715</td>\n",
              "      <td>August</td>\n",
              "      <td>2005</td>\n",
              "    </tr>\n",
              "    <tr>\n",
              "      <th>2005-09-01</th>\n",
              "      <td>13.48</td>\n",
              "      <td>14.87</td>\n",
              "      <td>12.27</td>\n",
              "      <td>13.30</td>\n",
              "      <td>13.570</td>\n",
              "      <td>September</td>\n",
              "      <td>2005</td>\n",
              "    </tr>\n",
              "    <tr>\n",
              "      <th>2005-10-01</th>\n",
              "      <td>13.20</td>\n",
              "      <td>14.47</td>\n",
              "      <td>12.40</td>\n",
              "      <td>12.99</td>\n",
              "      <td>13.435</td>\n",
              "      <td>October</td>\n",
              "      <td>2005</td>\n",
              "    </tr>\n",
              "    <tr>\n",
              "      <th>2005-11-01</th>\n",
              "      <td>13.35</td>\n",
              "      <td>13.88</td>\n",
              "      <td>12.88</td>\n",
              "      <td>13.41</td>\n",
              "      <td>13.380</td>\n",
              "      <td>November</td>\n",
              "      <td>2005</td>\n",
              "    </tr>\n",
              "  </tbody>\n",
              "</table>\n",
              "</div>\n",
              "      <button class=\"colab-df-convert\" onclick=\"convertToInteractive('df-95c65da8-27fb-4e4b-b678-42b784681b20')\"\n",
              "              title=\"Convert this dataframe to an interactive table.\"\n",
              "              style=\"display:none;\">\n",
              "        \n",
              "  <svg xmlns=\"http://www.w3.org/2000/svg\" height=\"24px\"viewBox=\"0 0 24 24\"\n",
              "       width=\"24px\">\n",
              "    <path d=\"M0 0h24v24H0V0z\" fill=\"none\"/>\n",
              "    <path d=\"M18.56 5.44l.94 2.06.94-2.06 2.06-.94-2.06-.94-.94-2.06-.94 2.06-2.06.94zm-11 1L8.5 8.5l.94-2.06 2.06-.94-2.06-.94L8.5 2.5l-.94 2.06-2.06.94zm10 10l.94 2.06.94-2.06 2.06-.94-2.06-.94-.94-2.06-.94 2.06-2.06.94z\"/><path d=\"M17.41 7.96l-1.37-1.37c-.4-.4-.92-.59-1.43-.59-.52 0-1.04.2-1.43.59L10.3 9.45l-7.72 7.72c-.78.78-.78 2.05 0 2.83L4 21.41c.39.39.9.59 1.41.59.51 0 1.02-.2 1.41-.59l7.78-7.78 2.81-2.81c.8-.78.8-2.07 0-2.86zM5.41 20L4 18.59l7.72-7.72 1.47 1.35L5.41 20z\"/>\n",
              "  </svg>\n",
              "      </button>\n",
              "      \n",
              "  <style>\n",
              "    .colab-df-container {\n",
              "      display:flex;\n",
              "      flex-wrap:wrap;\n",
              "      gap: 12px;\n",
              "    }\n",
              "\n",
              "    .colab-df-convert {\n",
              "      background-color: #E8F0FE;\n",
              "      border: none;\n",
              "      border-radius: 50%;\n",
              "      cursor: pointer;\n",
              "      display: none;\n",
              "      fill: #1967D2;\n",
              "      height: 32px;\n",
              "      padding: 0 0 0 0;\n",
              "      width: 32px;\n",
              "    }\n",
              "\n",
              "    .colab-df-convert:hover {\n",
              "      background-color: #E2EBFA;\n",
              "      box-shadow: 0px 1px 2px rgba(60, 64, 67, 0.3), 0px 1px 3px 1px rgba(60, 64, 67, 0.15);\n",
              "      fill: #174EA6;\n",
              "    }\n",
              "\n",
              "    [theme=dark] .colab-df-convert {\n",
              "      background-color: #3B4455;\n",
              "      fill: #D2E3FC;\n",
              "    }\n",
              "\n",
              "    [theme=dark] .colab-df-convert:hover {\n",
              "      background-color: #434B5C;\n",
              "      box-shadow: 0px 1px 3px 1px rgba(0, 0, 0, 0.15);\n",
              "      filter: drop-shadow(0px 1px 2px rgba(0, 0, 0, 0.3));\n",
              "      fill: #FFFFFF;\n",
              "    }\n",
              "  </style>\n",
              "\n",
              "      <script>\n",
              "        const buttonEl =\n",
              "          document.querySelector('#df-95c65da8-27fb-4e4b-b678-42b784681b20 button.colab-df-convert');\n",
              "        buttonEl.style.display =\n",
              "          google.colab.kernel.accessAllowed ? 'block' : 'none';\n",
              "\n",
              "        async function convertToInteractive(key) {\n",
              "          const element = document.querySelector('#df-95c65da8-27fb-4e4b-b678-42b784681b20');\n",
              "          const dataTable =\n",
              "            await google.colab.kernel.invokeFunction('convertToInteractive',\n",
              "                                                     [key], {});\n",
              "          if (!dataTable) return;\n",
              "\n",
              "          const docLinkHtml = 'Like what you see? Visit the ' +\n",
              "            '<a target=\"_blank\" href=https://colab.research.google.com/notebooks/data_table.ipynb>data table notebook</a>'\n",
              "            + ' to learn more about interactive tables.';\n",
              "          element.innerHTML = '';\n",
              "          dataTable['output_type'] = 'display_data';\n",
              "          await google.colab.output.renderOutput(dataTable, element);\n",
              "          const docLink = document.createElement('div');\n",
              "          docLink.innerHTML = docLinkHtml;\n",
              "          element.appendChild(docLink);\n",
              "        }\n",
              "      </script>\n",
              "    </div>\n",
              "  </div>\n",
              "  "
            ]
          },
          "metadata": {},
          "execution_count": 109
        }
      ]
    },
    {
      "cell_type": "code",
      "source": [
        "plt.figure(figsize=(10,5))\n",
        "sns.heatmap(df.corr(),annot = True)\n",
        "plt.show()"
      ],
      "metadata": {
        "colab": {
          "base_uri": "https://localhost:8080/",
          "height": 324
        },
        "id": "9FUdJtMre_t4",
        "outputId": "bf89b4c2-051f-4847-f294-75d7aebd8d62"
      },
      "execution_count": 46,
      "outputs": [
        {
          "output_type": "display_data",
          "data": {
            "text/plain": [
              "<Figure size 720x360 with 2 Axes>"
            ],
            "image/png": "[encoded data removed]"
          },
          "metadata": {
            "needs_background": "light"
          }
        }
      ]
    },
    {
      "cell_type": "markdown",
      "source": [
        "All the Corr values are 0.98,0.99 or 1 which leads to Multicollinearity So there will be a problem in Fitting model and prediction , means a slight change in the inpendent variable will lead to unpredictable result.\n",
        "\n",
        "To check multicollinearity and how much it is in our dataset, we have to calculate VIF(Variation Inflation Factor)\n",
        "\n",
        "so, we can decide which varible we should keep in our analysis and predicting model and which should be removed from the datasets."
      ],
      "metadata": {
        "id": "B8JJ44E-fnAp"
      }
    },
    {
      "cell_type": "code",
      "source": [
        "# VIF\n",
        "from statsmodels.stats.outliers_influence import variance_inflation_factor\n",
        "def calc_vif(data):\n",
        "  vif = pd.DataFrame()\n",
        "  vif['Variables'] = data.columns\n",
        "  vif['VIF'] = [variance_inflation_factor(data.values,i) for i in range(data.shape[1])]\n",
        "  return (vif)"
      ],
      "metadata": {
        "id": "Sxdr-sCgZjgW"
      },
      "execution_count": 47,
      "outputs": []
    },
    {
      "cell_type": "code",
      "source": [
        "calc_vif(df[[i for i in df.describe().columns if i not in ['Date','Close']]])"
      ],
      "metadata": {
        "colab": {
          "base_uri": "https://localhost:8080/",
          "height": 175
        },
        "id": "i9-wXu4UbHZu",
        "outputId": "83c55ffb-403c-468c-881a-09404e178cc9"
      },
      "execution_count": 48,
      "outputs": [
        {
          "output_type": "execute_result",
          "data": {
            "text/plain": [
              "  Variables         VIF\n",
              "0      Open  175.185704\n",
              "1      High         inf\n",
              "2       Low         inf\n",
              "3   Average         inf"
            ],
            "text/html": [
              "\n",
              "  <div id=\"df-ed955974-d6cd-4c9d-bea0-633b408c8153\">\n",
              "    <div class=\"colab-df-container\">\n",
              "      <div>\n",
              "<style scoped>\n",
              "    .dataframe tbody tr th:only-of-type {\n",
              "        vertical-align: middle;\n",
              "    }\n",
              "\n",
              "    .dataframe tbody tr th {\n",
              "        vertical-align: top;\n",
              "    }\n",
              "\n",
              "    .dataframe thead th {\n",
              "        text-align: right;\n",
              "    }\n",
              "</style>\n",
              "<table border=\"1\" class=\"dataframe\">\n",
              "  <thead>\n",
              "    <tr style=\"text-align: right;\">\n",
              "      <th></th>\n",
              "      <th>Variables</th>\n",
              "      <th>VIF</th>\n",
              "    </tr>\n",
              "  </thead>\n",
              "  <tbody>\n",
              "    <tr>\n",
              "      <th>0</th>\n",
              "      <td>Open</td>\n",
              "      <td>175.185704</td>\n",
              "    </tr>\n",
              "    <tr>\n",
              "      <th>1</th>\n",
              "      <td>High</td>\n",
              "      <td>inf</td>\n",
              "    </tr>\n",
              "    <tr>\n",
              "      <th>2</th>\n",
              "      <td>Low</td>\n",
              "      <td>inf</td>\n",
              "    </tr>\n",
              "    <tr>\n",
              "      <th>3</th>\n",
              "      <td>Average</td>\n",
              "      <td>inf</td>\n",
              "    </tr>\n",
              "  </tbody>\n",
              "</table>\n",
              "</div>\n",
              "      <button class=\"colab-df-convert\" onclick=\"convertToInteractive('df-ed955974-d6cd-4c9d-bea0-633b408c8153')\"\n",
              "              title=\"Convert this dataframe to an interactive table.\"\n",
              "              style=\"display:none;\">\n",
              "        \n",
              "  <svg xmlns=\"http://www.w3.org/2000/svg\" height=\"24px\"viewBox=\"0 0 24 24\"\n",
              "       width=\"24px\">\n",
              "    <path d=\"M0 0h24v24H0V0z\" fill=\"none\"/>\n",
              "    <path d=\"M18.56 5.44l.94 2.06.94-2.06 2.06-.94-2.06-.94-.94-2.06-.94 2.06-2.06.94zm-11 1L8.5 8.5l.94-2.06 2.06-.94-2.06-.94L8.5 2.5l-.94 2.06-2.06.94zm10 10l.94 2.06.94-2.06 2.06-.94-2.06-.94-.94-2.06-.94 2.06-2.06.94z\"/><path d=\"M17.41 7.96l-1.37-1.37c-.4-.4-.92-.59-1.43-.59-.52 0-1.04.2-1.43.59L10.3 9.45l-7.72 7.72c-.78.78-.78 2.05 0 2.83L4 21.41c.39.39.9.59 1.41.59.51 0 1.02-.2 1.41-.59l7.78-7.78 2.81-2.81c.8-.78.8-2.07 0-2.86zM5.41 20L4 18.59l7.72-7.72 1.47 1.35L5.41 20z\"/>\n",
              "  </svg>\n",
              "      </button>\n",
              "      \n",
              "  <style>\n",
              "    .colab-df-container {\n",
              "      display:flex;\n",
              "      flex-wrap:wrap;\n",
              "      gap: 12px;\n",
              "    }\n",
              "\n",
              "    .colab-df-convert {\n",
              "      background-color: #E8F0FE;\n",
              "      border: none;\n",
              "      border-radius: 50%;\n",
              "      cursor: pointer;\n",
              "      display: none;\n",
              "      fill: #1967D2;\n",
              "      height: 32px;\n",
              "      padding: 0 0 0 0;\n",
              "      width: 32px;\n",
              "    }\n",
              "\n",
              "    .colab-df-convert:hover {\n",
              "      background-color: #E2EBFA;\n",
              "      box-shadow: 0px 1px 2px rgba(60, 64, 67, 0.3), 0px 1px 3px 1px rgba(60, 64, 67, 0.15);\n",
              "      fill: #174EA6;\n",
              "    }\n",
              "\n",
              "    [theme=dark] .colab-df-convert {\n",
              "      background-color: #3B4455;\n",
              "      fill: #D2E3FC;\n",
              "    }\n",
              "\n",
              "    [theme=dark] .colab-df-convert:hover {\n",
              "      background-color: #434B5C;\n",
              "      box-shadow: 0px 1px 3px 1px rgba(0, 0, 0, 0.15);\n",
              "      filter: drop-shadow(0px 1px 2px rgba(0, 0, 0, 0.3));\n",
              "      fill: #FFFFFF;\n",
              "    }\n",
              "  </style>\n",
              "\n",
              "      <script>\n",
              "        const buttonEl =\n",
              "          document.querySelector('#df-ed955974-d6cd-4c9d-bea0-633b408c8153 button.colab-df-convert');\n",
              "        buttonEl.style.display =\n",
              "          google.colab.kernel.accessAllowed ? 'block' : 'none';\n",
              "\n",
              "        async function convertToInteractive(key) {\n",
              "          const element = document.querySelector('#df-ed955974-d6cd-4c9d-bea0-633b408c8153');\n",
              "          const dataTable =\n",
              "            await google.colab.kernel.invokeFunction('convertToInteractive',\n",
              "                                                     [key], {});\n",
              "          if (!dataTable) return;\n",
              "\n",
              "          const docLinkHtml = 'Like what you see? Visit the ' +\n",
              "            '<a target=\"_blank\" href=https://colab.research.google.com/notebooks/data_table.ipynb>data table notebook</a>'\n",
              "            + ' to learn more about interactive tables.';\n",
              "          element.innerHTML = '';\n",
              "          dataTable['output_type'] = 'display_data';\n",
              "          await google.colab.output.renderOutput(dataTable, element);\n",
              "          const docLink = document.createElement('div');\n",
              "          docLink.innerHTML = docLinkHtml;\n",
              "          element.appendChild(docLink);\n",
              "        }\n",
              "      </script>\n",
              "    </div>\n",
              "  </div>\n",
              "  "
            ]
          },
          "metadata": {},
          "execution_count": 48
        }
      ]
    },
    {
      "cell_type": "markdown",
      "source": [
        "The VIF value is high So need to drop few columns which is least correlated with dependable variable"
      ],
      "metadata": {
        "id": "1UTsPcVQb_lM"
      }
    },
    {
      "cell_type": "code",
      "source": [
        "calc_vif(df[[i for i in df.describe().columns if i not in ['Date','Close','Average']]])"
      ],
      "metadata": {
        "colab": {
          "base_uri": "https://localhost:8080/",
          "height": 143
        },
        "id": "HNiFvLvUgxm3",
        "outputId": "79b7594f-206c-40a3-ba44-4a6d726c42df"
      },
      "execution_count": 49,
      "outputs": [
        {
          "output_type": "execute_result",
          "data": {
            "text/plain": [
              "  Variables         VIF\n",
              "0      Open  175.185704\n",
              "1      High  167.057523\n",
              "2       Low   71.574137"
            ],
            "text/html": [
              "\n",
              "  <div id=\"df-8dd6e0f7-4283-414e-9d65-6cbb3522c303\">\n",
              "    <div class=\"colab-df-container\">\n",
              "      <div>\n",
              "<style scoped>\n",
              "    .dataframe tbody tr th:only-of-type {\n",
              "        vertical-align: middle;\n",
              "    }\n",
              "\n",
              "    .dataframe tbody tr th {\n",
              "        vertical-align: top;\n",
              "    }\n",
              "\n",
              "    .dataframe thead th {\n",
              "        text-align: right;\n",
              "    }\n",
              "</style>\n",
              "<table border=\"1\" class=\"dataframe\">\n",
              "  <thead>\n",
              "    <tr style=\"text-align: right;\">\n",
              "      <th></th>\n",
              "      <th>Variables</th>\n",
              "      <th>VIF</th>\n",
              "    </tr>\n",
              "  </thead>\n",
              "  <tbody>\n",
              "    <tr>\n",
              "      <th>0</th>\n",
              "      <td>Open</td>\n",
              "      <td>175.185704</td>\n",
              "    </tr>\n",
              "    <tr>\n",
              "      <th>1</th>\n",
              "      <td>High</td>\n",
              "      <td>167.057523</td>\n",
              "    </tr>\n",
              "    <tr>\n",
              "      <th>2</th>\n",
              "      <td>Low</td>\n",
              "      <td>71.574137</td>\n",
              "    </tr>\n",
              "  </tbody>\n",
              "</table>\n",
              "</div>\n",
              "      <button class=\"colab-df-convert\" onclick=\"convertToInteractive('df-8dd6e0f7-4283-414e-9d65-6cbb3522c303')\"\n",
              "              title=\"Convert this dataframe to an interactive table.\"\n",
              "              style=\"display:none;\">\n",
              "        \n",
              "  <svg xmlns=\"http://www.w3.org/2000/svg\" height=\"24px\"viewBox=\"0 0 24 24\"\n",
              "       width=\"24px\">\n",
              "    <path d=\"M0 0h24v24H0V0z\" fill=\"none\"/>\n",
              "    <path d=\"M18.56 5.44l.94 2.06.94-2.06 2.06-.94-2.06-.94-.94-2.06-.94 2.06-2.06.94zm-11 1L8.5 8.5l.94-2.06 2.06-.94-2.06-.94L8.5 2.5l-.94 2.06-2.06.94zm10 10l.94 2.06.94-2.06 2.06-.94-2.06-.94-.94-2.06-.94 2.06-2.06.94z\"/><path d=\"M17.41 7.96l-1.37-1.37c-.4-.4-.92-.59-1.43-.59-.52 0-1.04.2-1.43.59L10.3 9.45l-7.72 7.72c-.78.78-.78 2.05 0 2.83L4 21.41c.39.39.9.59 1.41.59.51 0 1.02-.2 1.41-.59l7.78-7.78 2.81-2.81c.8-.78.8-2.07 0-2.86zM5.41 20L4 18.59l7.72-7.72 1.47 1.35L5.41 20z\"/>\n",
              "  </svg>\n",
              "      </button>\n",
              "      \n",
              "  <style>\n",
              "    .colab-df-container {\n",
              "      display:flex;\n",
              "      flex-wrap:wrap;\n",
              "      gap: 12px;\n",
              "    }\n",
              "\n",
              "    .colab-df-convert {\n",
              "      background-color: #E8F0FE;\n",
              "      border: none;\n",
              "      border-radius: 50%;\n",
              "      cursor: pointer;\n",
              "      display: none;\n",
              "      fill: #1967D2;\n",
              "      height: 32px;\n",
              "      padding: 0 0 0 0;\n",
              "      width: 32px;\n",
              "    }\n",
              "\n",
              "    .colab-df-convert:hover {\n",
              "      background-color: #E2EBFA;\n",
              "      box-shadow: 0px 1px 2px rgba(60, 64, 67, 0.3), 0px 1px 3px 1px rgba(60, 64, 67, 0.15);\n",
              "      fill: #174EA6;\n",
              "    }\n",
              "\n",
              "    [theme=dark] .colab-df-convert {\n",
              "      background-color: #3B4455;\n",
              "      fill: #D2E3FC;\n",
              "    }\n",
              "\n",
              "    [theme=dark] .colab-df-convert:hover {\n",
              "      background-color: #434B5C;\n",
              "      box-shadow: 0px 1px 3px 1px rgba(0, 0, 0, 0.15);\n",
              "      filter: drop-shadow(0px 1px 2px rgba(0, 0, 0, 0.3));\n",
              "      fill: #FFFFFF;\n",
              "    }\n",
              "  </style>\n",
              "\n",
              "      <script>\n",
              "        const buttonEl =\n",
              "          document.querySelector('#df-8dd6e0f7-4283-414e-9d65-6cbb3522c303 button.colab-df-convert');\n",
              "        buttonEl.style.display =\n",
              "          google.colab.kernel.accessAllowed ? 'block' : 'none';\n",
              "\n",
              "        async function convertToInteractive(key) {\n",
              "          const element = document.querySelector('#df-8dd6e0f7-4283-414e-9d65-6cbb3522c303');\n",
              "          const dataTable =\n",
              "            await google.colab.kernel.invokeFunction('convertToInteractive',\n",
              "                                                     [key], {});\n",
              "          if (!dataTable) return;\n",
              "\n",
              "          const docLinkHtml = 'Like what you see? Visit the ' +\n",
              "            '<a target=\"_blank\" href=https://colab.research.google.com/notebooks/data_table.ipynb>data table notebook</a>'\n",
              "            + ' to learn more about interactive tables.';\n",
              "          element.innerHTML = '';\n",
              "          dataTable['output_type'] = 'display_data';\n",
              "          await google.colab.output.renderOutput(dataTable, element);\n",
              "          const docLink = document.createElement('div');\n",
              "          docLink.innerHTML = docLinkHtml;\n",
              "          element.appendChild(docLink);\n",
              "        }\n",
              "      </script>\n",
              "    </div>\n",
              "  </div>\n",
              "  "
            ]
          },
          "metadata": {},
          "execution_count": 49
        }
      ]
    },
    {
      "cell_type": "markdown",
      "source": [
        "Before deleting any variable again we have to plot heatmap between left independet variables and dependent variable.\n",
        "\n",
        "So, we can decide which variable we can drop."
      ],
      "metadata": {
        "id": "NeOqFVaoh9dP"
      }
    },
    {
      "cell_type": "code",
      "source": [
        "#heatmap for correlation\n",
        "plt.figure(figsize=(10,5))\n",
        "sns.heatmap(df[['Low','High','Open','Close']].corr(), annot = True)\n",
        "plt.show()"
      ],
      "metadata": {
        "colab": {
          "base_uri": "https://localhost:8080/",
          "height": 324
        },
        "id": "98VkoQdkiDJN",
        "outputId": "7458a2d8-247d-4e8c-8488-07dd4043def2"
      },
      "execution_count": 50,
      "outputs": [
        {
          "output_type": "display_data",
          "data": {
            "text/plain": [
              "<Figure size 720x360 with 2 Axes>"
            ],
            "image/png": "[encoded data removed]"
          },
          "metadata": {
            "needs_background": "light"
          }
        }
      ]
    },
    {
      "cell_type": "code",
      "source": [
        "#Now, we'll drop Open feature from the VIF matrix\n",
        "calc_vif(df[[i for i in df.describe().columns if i not in ['Date','Close','Average','Open']]])"
      ],
      "metadata": {
        "colab": {
          "base_uri": "https://localhost:8080/",
          "height": 112
        },
        "id": "zV-YSsjdiOxc",
        "outputId": "51d6ea1d-b2da-429e-e2c5-3344febf06ae"
      },
      "execution_count": 52,
      "outputs": [
        {
          "output_type": "execute_result",
          "data": {
            "text/plain": [
              "  Variables        VIF\n",
              "0      High  62.598129\n",
              "1       Low  62.598129"
            ],
            "text/html": [
              "\n",
              "  <div id=\"df-03b1e523-a380-4fa8-8e2a-b988befbadb7\">\n",
              "    <div class=\"colab-df-container\">\n",
              "      <div>\n",
              "<style scoped>\n",
              "    .dataframe tbody tr th:only-of-type {\n",
              "        vertical-align: middle;\n",
              "    }\n",
              "\n",
              "    .dataframe tbody tr th {\n",
              "        vertical-align: top;\n",
              "    }\n",
              "\n",
              "    .dataframe thead th {\n",
              "        text-align: right;\n",
              "    }\n",
              "</style>\n",
              "<table border=\"1\" class=\"dataframe\">\n",
              "  <thead>\n",
              "    <tr style=\"text-align: right;\">\n",
              "      <th></th>\n",
              "      <th>Variables</th>\n",
              "      <th>VIF</th>\n",
              "    </tr>\n",
              "  </thead>\n",
              "  <tbody>\n",
              "    <tr>\n",
              "      <th>0</th>\n",
              "      <td>High</td>\n",
              "      <td>62.598129</td>\n",
              "    </tr>\n",
              "    <tr>\n",
              "      <th>1</th>\n",
              "      <td>Low</td>\n",
              "      <td>62.598129</td>\n",
              "    </tr>\n",
              "  </tbody>\n",
              "</table>\n",
              "</div>\n",
              "      <button class=\"colab-df-convert\" onclick=\"convertToInteractive('df-03b1e523-a380-4fa8-8e2a-b988befbadb7')\"\n",
              "              title=\"Convert this dataframe to an interactive table.\"\n",
              "              style=\"display:none;\">\n",
              "        \n",
              "  <svg xmlns=\"http://www.w3.org/2000/svg\" height=\"24px\"viewBox=\"0 0 24 24\"\n",
              "       width=\"24px\">\n",
              "    <path d=\"M0 0h24v24H0V0z\" fill=\"none\"/>\n",
              "    <path d=\"M18.56 5.44l.94 2.06.94-2.06 2.06-.94-2.06-.94-.94-2.06-.94 2.06-2.06.94zm-11 1L8.5 8.5l.94-2.06 2.06-.94-2.06-.94L8.5 2.5l-.94 2.06-2.06.94zm10 10l.94 2.06.94-2.06 2.06-.94-2.06-.94-.94-2.06-.94 2.06-2.06.94z\"/><path d=\"M17.41 7.96l-1.37-1.37c-.4-.4-.92-.59-1.43-.59-.52 0-1.04.2-1.43.59L10.3 9.45l-7.72 7.72c-.78.78-.78 2.05 0 2.83L4 21.41c.39.39.9.59 1.41.59.51 0 1.02-.2 1.41-.59l7.78-7.78 2.81-2.81c.8-.78.8-2.07 0-2.86zM5.41 20L4 18.59l7.72-7.72 1.47 1.35L5.41 20z\"/>\n",
              "  </svg>\n",
              "      </button>\n",
              "      \n",
              "  <style>\n",
              "    .colab-df-container {\n",
              "      display:flex;\n",
              "      flex-wrap:wrap;\n",
              "      gap: 12px;\n",
              "    }\n",
              "\n",
              "    .colab-df-convert {\n",
              "      background-color: #E8F0FE;\n",
              "      border: none;\n",
              "      border-radius: 50%;\n",
              "      cursor: pointer;\n",
              "      display: none;\n",
              "      fill: #1967D2;\n",
              "      height: 32px;\n",
              "      padding: 0 0 0 0;\n",
              "      width: 32px;\n",
              "    }\n",
              "\n",
              "    .colab-df-convert:hover {\n",
              "      background-color: #E2EBFA;\n",
              "      box-shadow: 0px 1px 2px rgba(60, 64, 67, 0.3), 0px 1px 3px 1px rgba(60, 64, 67, 0.15);\n",
              "      fill: #174EA6;\n",
              "    }\n",
              "\n",
              "    [theme=dark] .colab-df-convert {\n",
              "      background-color: #3B4455;\n",
              "      fill: #D2E3FC;\n",
              "    }\n",
              "\n",
              "    [theme=dark] .colab-df-convert:hover {\n",
              "      background-color: #434B5C;\n",
              "      box-shadow: 0px 1px 3px 1px rgba(0, 0, 0, 0.15);\n",
              "      filter: drop-shadow(0px 1px 2px rgba(0, 0, 0, 0.3));\n",
              "      fill: #FFFFFF;\n",
              "    }\n",
              "  </style>\n",
              "\n",
              "      <script>\n",
              "        const buttonEl =\n",
              "          document.querySelector('#df-03b1e523-a380-4fa8-8e2a-b988befbadb7 button.colab-df-convert');\n",
              "        buttonEl.style.display =\n",
              "          google.colab.kernel.accessAllowed ? 'block' : 'none';\n",
              "\n",
              "        async function convertToInteractive(key) {\n",
              "          const element = document.querySelector('#df-03b1e523-a380-4fa8-8e2a-b988befbadb7');\n",
              "          const dataTable =\n",
              "            await google.colab.kernel.invokeFunction('convertToInteractive',\n",
              "                                                     [key], {});\n",
              "          if (!dataTable) return;\n",
              "\n",
              "          const docLinkHtml = 'Like what you see? Visit the ' +\n",
              "            '<a target=\"_blank\" href=https://colab.research.google.com/notebooks/data_table.ipynb>data table notebook</a>'\n",
              "            + ' to learn more about interactive tables.';\n",
              "          element.innerHTML = '';\n",
              "          dataTable['output_type'] = 'display_data';\n",
              "          await google.colab.output.renderOutput(dataTable, element);\n",
              "          const docLink = document.createElement('div');\n",
              "          docLink.innerHTML = docLinkHtml;\n",
              "          element.appendChild(docLink);\n",
              "        }\n",
              "      </script>\n",
              "    </div>\n",
              "  </div>\n",
              "  "
            ]
          },
          "metadata": {},
          "execution_count": 52
        }
      ]
    },
    {
      "cell_type": "code",
      "source": [
        "#heatmap for correlation\n",
        "plt.figure(figsize=(10,5))\n",
        "sns.heatmap(df[['High','Low','Close']].corr(), annot = True)\n",
        "plt.show()"
      ],
      "metadata": {
        "colab": {
          "base_uri": "https://localhost:8080/",
          "height": 324
        },
        "id": "4JXD6Ilhifaj",
        "outputId": "7dcfaaaf-7e45-47e8-fe70-bf7622f91759"
      },
      "execution_count": 53,
      "outputs": [
        {
          "output_type": "display_data",
          "data": {
            "text/plain": [
              "<Figure size 720x360 with 2 Axes>"
            ],
            "image/png": "[encoded data removed]"
          },
          "metadata": {
            "needs_background": "light"
          }
        }
      ]
    },
    {
      "cell_type": "markdown",
      "source": [
        "Our final dropping variable will be High feature because it has less correlation with dependent variable in comparison.\n",
        "\n",
        "We've dropped 3 features from our dataset it can effect our model efficiency but neglecting high VIF is far more dangerous than dropping features.\n",
        "\n",
        "So, we preferred to drop the features and move forward with the Low Variable."
      ],
      "metadata": {
        "id": "JVWiB6aMi6Th"
      }
    },
    {
      "cell_type": "code",
      "source": [
        "#introducing dummy variables\n",
        "df = pd.get_dummies(df,columns = ['Year'])"
      ],
      "metadata": {
        "id": "h0iNGujo-2Vf"
      },
      "execution_count": 110,
      "outputs": []
    },
    {
      "cell_type": "code",
      "source": [
        "df.head()"
      ],
      "metadata": {
        "colab": {
          "base_uri": "https://localhost:8080/",
          "height": 299
        },
        "id": "-eHe6afa-9tP",
        "outputId": "2f9440ad-3188-46da-b936-05ec82401b03"
      },
      "execution_count": 55,
      "outputs": [
        {
          "output_type": "execute_result",
          "data": {
            "text/plain": [
              "    Open   High    Low  Close  Average      Month  Year_2005  Year_2006  \\\n",
              "0  13.00  14.00  11.25  12.46   12.625       July          1          0   \n",
              "1  12.58  14.88  12.55  13.42   13.715     August          1          0   \n",
              "2  13.48  14.87  12.27  13.30   13.570  September          1          0   \n",
              "3  13.20  14.47  12.40  12.99   13.435    October          1          0   \n",
              "4  13.35  13.88  12.88  13.41   13.380   November          1          0   \n",
              "\n",
              "   Year_2007  Year_2008  ...  Year_2011  Year_2012  Year_2013  Year_2014  \\\n",
              "0          0          0  ...          0          0          0          0   \n",
              "1          0          0  ...          0          0          0          0   \n",
              "2          0          0  ...          0          0          0          0   \n",
              "3          0          0  ...          0          0          0          0   \n",
              "4          0          0  ...          0          0          0          0   \n",
              "\n",
              "   Year_2015  Year_2016  Year_2017  Year_2018  Year_2019  Year_2020  \n",
              "0          0          0          0          0          0          0  \n",
              "1          0          0          0          0          0          0  \n",
              "2          0          0          0          0          0          0  \n",
              "3          0          0          0          0          0          0  \n",
              "4          0          0          0          0          0          0  \n",
              "\n",
              "[5 rows x 22 columns]"
            ],
            "text/html": [
              "\n",
              "  <div id=\"df-31ed18f4-53b3-42d2-888b-75f1076a454a\">\n",
              "    <div class=\"colab-df-container\">\n",
              "      <div>\n",
              "<style scoped>\n",
              "    .dataframe tbody tr th:only-of-type {\n",
              "        vertical-align: middle;\n",
              "    }\n",
              "\n",
              "    .dataframe tbody tr th {\n",
              "        vertical-align: top;\n",
              "    }\n",
              "\n",
              "    .dataframe thead th {\n",
              "        text-align: right;\n",
              "    }\n",
              "</style>\n",
              "<table border=\"1\" class=\"dataframe\">\n",
              "  <thead>\n",
              "    <tr style=\"text-align: right;\">\n",
              "      <th></th>\n",
              "      <th>Open</th>\n",
              "      <th>High</th>\n",
              "      <th>Low</th>\n",
              "      <th>Close</th>\n",
              "      <th>Average</th>\n",
              "      <th>Month</th>\n",
              "      <th>Year_2005</th>\n",
              "      <th>Year_2006</th>\n",
              "      <th>Year_2007</th>\n",
              "      <th>Year_2008</th>\n",
              "      <th>...</th>\n",
              "      <th>Year_2011</th>\n",
              "      <th>Year_2012</th>\n",
              "      <th>Year_2013</th>\n",
              "      <th>Year_2014</th>\n",
              "      <th>Year_2015</th>\n",
              "      <th>Year_2016</th>\n",
              "      <th>Year_2017</th>\n",
              "      <th>Year_2018</th>\n",
              "      <th>Year_2019</th>\n",
              "      <th>Year_2020</th>\n",
              "    </tr>\n",
              "  </thead>\n",
              "  <tbody>\n",
              "    <tr>\n",
              "      <th>0</th>\n",
              "      <td>13.00</td>\n",
              "      <td>14.00</td>\n",
              "      <td>11.25</td>\n",
              "      <td>12.46</td>\n",
              "      <td>12.625</td>\n",
              "      <td>July</td>\n",
              "      <td>1</td>\n",
              "      <td>0</td>\n",
              "      <td>0</td>\n",
              "      <td>0</td>\n",
              "      <td>...</td>\n",
              "      <td>0</td>\n",
              "      <td>0</td>\n",
              "      <td>0</td>\n",
              "      <td>0</td>\n",
              "      <td>0</td>\n",
              "      <td>0</td>\n",
              "      <td>0</td>\n",
              "      <td>0</td>\n",
              "      <td>0</td>\n",
              "      <td>0</td>\n",
              "    </tr>\n",
              "    <tr>\n",
              "      <th>1</th>\n",
              "      <td>12.58</td>\n",
              "      <td>14.88</td>\n",
              "      <td>12.55</td>\n",
              "      <td>13.42</td>\n",
              "      <td>13.715</td>\n",
              "      <td>August</td>\n",
              "      <td>1</td>\n",
              "      <td>0</td>\n",
              "      <td>0</td>\n",
              "      <td>0</td>\n",
              "      <td>...</td>\n",
              "      <td>0</td>\n",
              "      <td>0</td>\n",
              "      <td>0</td>\n",
              "      <td>0</td>\n",
              "      <td>0</td>\n",
              "      <td>0</td>\n",
              "      <td>0</td>\n",
              "      <td>0</td>\n",
              "      <td>0</td>\n",
              "      <td>0</td>\n",
              "    </tr>\n",
              "    <tr>\n",
              "      <th>2</th>\n",
              "      <td>13.48</td>\n",
              "      <td>14.87</td>\n",
              "      <td>12.27</td>\n",
              "      <td>13.30</td>\n",
              "      <td>13.570</td>\n",
              "      <td>September</td>\n",
              "      <td>1</td>\n",
              "      <td>0</td>\n",
              "      <td>0</td>\n",
              "      <td>0</td>\n",
              "      <td>...</td>\n",
              "      <td>0</td>\n",
              "      <td>0</td>\n",
              "      <td>0</td>\n",
              "      <td>0</td>\n",
              "      <td>0</td>\n",
              "      <td>0</td>\n",
              "      <td>0</td>\n",
              "      <td>0</td>\n",
              "      <td>0</td>\n",
              "      <td>0</td>\n",
              "    </tr>\n",
              "    <tr>\n",
              "      <th>3</th>\n",
              "      <td>13.20</td>\n",
              "      <td>14.47</td>\n",
              "      <td>12.40</td>\n",
              "      <td>12.99</td>\n",
              "      <td>13.435</td>\n",
              "      <td>October</td>\n",
              "      <td>1</td>\n",
              "      <td>0</td>\n",
              "      <td>0</td>\n",
              "      <td>0</td>\n",
              "      <td>...</td>\n",
              "      <td>0</td>\n",
              "      <td>0</td>\n",
              "      <td>0</td>\n",
              "      <td>0</td>\n",
              "      <td>0</td>\n",
              "      <td>0</td>\n",
              "      <td>0</td>\n",
              "      <td>0</td>\n",
              "      <td>0</td>\n",
              "      <td>0</td>\n",
              "    </tr>\n",
              "    <tr>\n",
              "      <th>4</th>\n",
              "      <td>13.35</td>\n",
              "      <td>13.88</td>\n",
              "      <td>12.88</td>\n",
              "      <td>13.41</td>\n",
              "      <td>13.380</td>\n",
              "      <td>November</td>\n",
              "      <td>1</td>\n",
              "      <td>0</td>\n",
              "      <td>0</td>\n",
              "      <td>0</td>\n",
              "      <td>...</td>\n",
              "      <td>0</td>\n",
              "      <td>0</td>\n",
              "      <td>0</td>\n",
              "      <td>0</td>\n",
              "      <td>0</td>\n",
              "      <td>0</td>\n",
              "      <td>0</td>\n",
              "      <td>0</td>\n",
              "      <td>0</td>\n",
              "      <td>0</td>\n",
              "    </tr>\n",
              "  </tbody>\n",
              "</table>\n",
              "<p>5 rows × 22 columns</p>\n",
              "</div>\n",
              "      <button class=\"colab-df-convert\" onclick=\"convertToInteractive('df-31ed18f4-53b3-42d2-888b-75f1076a454a')\"\n",
              "              title=\"Convert this dataframe to an interactive table.\"\n",
              "              style=\"display:none;\">\n",
              "        \n",
              "  <svg xmlns=\"http://www.w3.org/2000/svg\" height=\"24px\"viewBox=\"0 0 24 24\"\n",
              "       width=\"24px\">\n",
              "    <path d=\"M0 0h24v24H0V0z\" fill=\"none\"/>\n",
              "    <path d=\"M18.56 5.44l.94 2.06.94-2.06 2.06-.94-2.06-.94-.94-2.06-.94 2.06-2.06.94zm-11 1L8.5 8.5l.94-2.06 2.06-.94-2.06-.94L8.5 2.5l-.94 2.06-2.06.94zm10 10l.94 2.06.94-2.06 2.06-.94-2.06-.94-.94-2.06-.94 2.06-2.06.94z\"/><path d=\"M17.41 7.96l-1.37-1.37c-.4-.4-.92-.59-1.43-.59-.52 0-1.04.2-1.43.59L10.3 9.45l-7.72 7.72c-.78.78-.78 2.05 0 2.83L4 21.41c.39.39.9.59 1.41.59.51 0 1.02-.2 1.41-.59l7.78-7.78 2.81-2.81c.8-.78.8-2.07 0-2.86zM5.41 20L4 18.59l7.72-7.72 1.47 1.35L5.41 20z\"/>\n",
              "  </svg>\n",
              "      </button>\n",
              "      \n",
              "  <style>\n",
              "    .colab-df-container {\n",
              "      display:flex;\n",
              "      flex-wrap:wrap;\n",
              "      gap: 12px;\n",
              "    }\n",
              "\n",
              "    .colab-df-convert {\n",
              "      background-color: #E8F0FE;\n",
              "      border: none;\n",
              "      border-radius: 50%;\n",
              "      cursor: pointer;\n",
              "      display: none;\n",
              "      fill: #1967D2;\n",
              "      height: 32px;\n",
              "      padding: 0 0 0 0;\n",
              "      width: 32px;\n",
              "    }\n",
              "\n",
              "    .colab-df-convert:hover {\n",
              "      background-color: #E2EBFA;\n",
              "      box-shadow: 0px 1px 2px rgba(60, 64, 67, 0.3), 0px 1px 3px 1px rgba(60, 64, 67, 0.15);\n",
              "      fill: #174EA6;\n",
              "    }\n",
              "\n",
              "    [theme=dark] .colab-df-convert {\n",
              "      background-color: #3B4455;\n",
              "      fill: #D2E3FC;\n",
              "    }\n",
              "\n",
              "    [theme=dark] .colab-df-convert:hover {\n",
              "      background-color: #434B5C;\n",
              "      box-shadow: 0px 1px 3px 1px rgba(0, 0, 0, 0.15);\n",
              "      filter: drop-shadow(0px 1px 2px rgba(0, 0, 0, 0.3));\n",
              "      fill: #FFFFFF;\n",
              "    }\n",
              "  </style>\n",
              "\n",
              "      <script>\n",
              "        const buttonEl =\n",
              "          document.querySelector('#df-31ed18f4-53b3-42d2-888b-75f1076a454a button.colab-df-convert');\n",
              "        buttonEl.style.display =\n",
              "          google.colab.kernel.accessAllowed ? 'block' : 'none';\n",
              "\n",
              "        async function convertToInteractive(key) {\n",
              "          const element = document.querySelector('#df-31ed18f4-53b3-42d2-888b-75f1076a454a');\n",
              "          const dataTable =\n",
              "            await google.colab.kernel.invokeFunction('convertToInteractive',\n",
              "                                                     [key], {});\n",
              "          if (!dataTable) return;\n",
              "\n",
              "          const docLinkHtml = 'Like what you see? Visit the ' +\n",
              "            '<a target=\"_blank\" href=https://colab.research.google.com/notebooks/data_table.ipynb>data table notebook</a>'\n",
              "            + ' to learn more about interactive tables.';\n",
              "          element.innerHTML = '';\n",
              "          dataTable['output_type'] = 'display_data';\n",
              "          await google.colab.output.renderOutput(dataTable, element);\n",
              "          const docLink = document.createElement('div');\n",
              "          docLink.innerHTML = docLinkHtml;\n",
              "          element.appendChild(docLink);\n",
              "        }\n",
              "      </script>\n",
              "    </div>\n",
              "  </div>\n",
              "  "
            ]
          },
          "metadata": {},
          "execution_count": 55
        }
      ]
    },
    {
      "cell_type": "code",
      "source": [
        "df.shape"
      ],
      "metadata": {
        "colab": {
          "base_uri": "https://localhost:8080/"
        },
        "id": "EJP3vd1FA_FU",
        "outputId": "642cebcc-a868-48e1-9ed7-ce8e1c00d496"
      },
      "execution_count": 68,
      "outputs": [
        {
          "output_type": "execute_result",
          "data": {
            "text/plain": [
              "(185, 22)"
            ]
          },
          "metadata": {},
          "execution_count": 68
        }
      ]
    },
    {
      "cell_type": "code",
      "source": [
        "ind_features = ['Year_2005','Year_2006','Year_2007','Year_2008','Year_2009','Year_2010','Year_2011','Year_2012','Year_2013','Year_2014','Year_2015','Year_2016','Year_2017','Year_2018','Year_2019','Year_2020']"
      ],
      "metadata": {
        "id": "agYrwqD4BCBd"
      },
      "execution_count": 111,
      "outputs": []
    },
    {
      "cell_type": "code",
      "source": [
        "ind_features"
      ],
      "metadata": {
        "colab": {
          "base_uri": "https://localhost:8080/"
        },
        "id": "py0bb52vBfV4",
        "outputId": "4563e3a3-d604-47cc-fbe8-53824707d350"
      },
      "execution_count": 112,
      "outputs": [
        {
          "output_type": "execute_result",
          "data": {
            "text/plain": [
              "['Year_2005',\n",
              " 'Year_2006',\n",
              " 'Year_2007',\n",
              " 'Year_2008',\n",
              " 'Year_2009',\n",
              " 'Year_2010',\n",
              " 'Year_2011',\n",
              " 'Year_2012',\n",
              " 'Year_2013',\n",
              " 'Year_2014',\n",
              " 'Year_2015',\n",
              " 'Year_2016',\n",
              " 'Year_2017',\n",
              " 'Year_2018',\n",
              " 'Year_2019',\n",
              " 'Year_2020']"
            ]
          },
          "metadata": {},
          "execution_count": 112
        }
      ]
    },
    {
      "cell_type": "code",
      "source": [
        "#Installing scipy \n",
        "!pip install scipy"
      ],
      "metadata": {
        "colab": {
          "base_uri": "https://localhost:8080/"
        },
        "id": "6bsr2SvGi1Cw",
        "outputId": "ae817214-0b18-4e72-943f-ba3696411405"
      },
      "execution_count": 72,
      "outputs": [
        {
          "output_type": "stream",
          "name": "stdout",
          "text": [
            "Looking in indexes: https://pypi.org/simple, https://us-python.pkg.dev/colab-wheels/public/simple/\n",
            "Requirement already satisfied: scipy in /usr/local/lib/python3.7/dist-packages (1.7.3)\n",
            "Requirement already satisfied: numpy<1.23.0,>=1.16.5 in /usr/local/lib/python3.7/dist-packages (from scipy) (1.21.6)\n"
          ]
        }
      ]
    },
    {
      "cell_type": "code",
      "source": [
        "#applying zscore to each values of independent variable \n",
        "from scipy.stats import zscore\n",
        "X = round(df[ind_features].apply(zscore),3)"
      ],
      "metadata": {
        "id": "Kd9wHsSIawdP"
      },
      "execution_count": 114,
      "outputs": []
    },
    {
      "cell_type": "code",
      "source": [
        "X"
      ],
      "metadata": {
        "colab": {
          "base_uri": "https://localhost:8080/",
          "height": 692
        },
        "id": "lU3WVbZcbvBN",
        "outputId": "89c96071-3237-4553-a22c-cac0f5ba1114"
      },
      "execution_count": 115,
      "outputs": [
        {
          "output_type": "execute_result",
          "data": {
            "text/plain": [
              "            Year_2005  Year_2006  Year_2007  Year_2008  Year_2009  Year_2010  \\\n",
              "Date                                                                           \n",
              "2005-07-01      5.462     -0.263     -0.263     -0.263     -0.263     -0.263   \n",
              "2005-08-01      5.462     -0.263     -0.263     -0.263     -0.263     -0.263   \n",
              "2005-09-01      5.462     -0.263     -0.263     -0.263     -0.263     -0.263   \n",
              "2005-10-01      5.462     -0.263     -0.263     -0.263     -0.263     -0.263   \n",
              "2005-11-01      5.462     -0.263     -0.263     -0.263     -0.263     -0.263   \n",
              "...               ...        ...        ...        ...        ...        ...   \n",
              "2020-07-01     -0.183     -0.263     -0.263     -0.263     -0.263     -0.263   \n",
              "2020-08-01     -0.183     -0.263     -0.263     -0.263     -0.263     -0.263   \n",
              "2020-09-01     -0.183     -0.263     -0.263     -0.263     -0.263     -0.263   \n",
              "2020-10-01     -0.183     -0.263     -0.263     -0.263     -0.263     -0.263   \n",
              "2020-11-01     -0.183     -0.263     -0.263     -0.263     -0.263     -0.263   \n",
              "\n",
              "            Year_2011  Year_2012  Year_2013  Year_2014  Year_2015  Year_2016  \\\n",
              "Date                                                                           \n",
              "2005-07-01     -0.263     -0.263     -0.263     -0.263     -0.263     -0.263   \n",
              "2005-08-01     -0.263     -0.263     -0.263     -0.263     -0.263     -0.263   \n",
              "2005-09-01     -0.263     -0.263     -0.263     -0.263     -0.263     -0.263   \n",
              "2005-10-01     -0.263     -0.263     -0.263     -0.263     -0.263     -0.263   \n",
              "2005-11-01     -0.263     -0.263     -0.263     -0.263     -0.263     -0.263   \n",
              "...               ...        ...        ...        ...        ...        ...   \n",
              "2020-07-01     -0.263     -0.263     -0.263     -0.263     -0.263     -0.263   \n",
              "2020-08-01     -0.263     -0.263     -0.263     -0.263     -0.263     -0.263   \n",
              "2020-09-01     -0.263     -0.263     -0.263     -0.263     -0.263     -0.263   \n",
              "2020-10-01     -0.263     -0.263     -0.263     -0.263     -0.263     -0.263   \n",
              "2020-11-01     -0.263     -0.263     -0.263     -0.263     -0.263     -0.263   \n",
              "\n",
              "            Year_2017  Year_2018  Year_2019  Year_2020  \n",
              "Date                                                    \n",
              "2005-07-01     -0.263     -0.263     -0.263     -0.251  \n",
              "2005-08-01     -0.263     -0.263     -0.263     -0.251  \n",
              "2005-09-01     -0.263     -0.263     -0.263     -0.251  \n",
              "2005-10-01     -0.263     -0.263     -0.263     -0.251  \n",
              "2005-11-01     -0.263     -0.263     -0.263     -0.251  \n",
              "...               ...        ...        ...        ...  \n",
              "2020-07-01     -0.263     -0.263     -0.263      3.977  \n",
              "2020-08-01     -0.263     -0.263     -0.263      3.977  \n",
              "2020-09-01     -0.263     -0.263     -0.263      3.977  \n",
              "2020-10-01     -0.263     -0.263     -0.263      3.977  \n",
              "2020-11-01     -0.263     -0.263     -0.263      3.977  \n",
              "\n",
              "[185 rows x 16 columns]"
            ],
            "text/html": [
              "\n",
              "  <div id=\"df-3a0e1d9a-3b99-40a3-941d-613230c50018\">\n",
              "    <div class=\"colab-df-container\">\n",
              "      <div>\n",
              "<style scoped>\n",
              "    .dataframe tbody tr th:only-of-type {\n",
              "        vertical-align: middle;\n",
              "    }\n",
              "\n",
              "    .dataframe tbody tr th {\n",
              "        vertical-align: top;\n",
              "    }\n",
              "\n",
              "    .dataframe thead th {\n",
              "        text-align: right;\n",
              "    }\n",
              "</style>\n",
              "<table border=\"1\" class=\"dataframe\">\n",
              "  <thead>\n",
              "    <tr style=\"text-align: right;\">\n",
              "      <th></th>\n",
              "      <th>Year_2005</th>\n",
              "      <th>Year_2006</th>\n",
              "      <th>Year_2007</th>\n",
              "      <th>Year_2008</th>\n",
              "      <th>Year_2009</th>\n",
              "      <th>Year_2010</th>\n",
              "      <th>Year_2011</th>\n",
              "      <th>Year_2012</th>\n",
              "      <th>Year_2013</th>\n",
              "      <th>Year_2014</th>\n",
              "      <th>Year_2015</th>\n",
              "      <th>Year_2016</th>\n",
              "      <th>Year_2017</th>\n",
              "      <th>Year_2018</th>\n",
              "      <th>Year_2019</th>\n",
              "      <th>Year_2020</th>\n",
              "    </tr>\n",
              "    <tr>\n",
              "      <th>Date</th>\n",
              "      <th></th>\n",
              "      <th></th>\n",
              "      <th></th>\n",
              "      <th></th>\n",
              "      <th></th>\n",
              "      <th></th>\n",
              "      <th></th>\n",
              "      <th></th>\n",
              "      <th></th>\n",
              "      <th></th>\n",
              "      <th></th>\n",
              "      <th></th>\n",
              "      <th></th>\n",
              "      <th></th>\n",
              "      <th></th>\n",
              "      <th></th>\n",
              "    </tr>\n",
              "  </thead>\n",
              "  <tbody>\n",
              "    <tr>\n",
              "      <th>2005-07-01</th>\n",
              "      <td>5.462</td>\n",
              "      <td>-0.263</td>\n",
              "      <td>-0.263</td>\n",
              "      <td>-0.263</td>\n",
              "      <td>-0.263</td>\n",
              "      <td>-0.263</td>\n",
              "      <td>-0.263</td>\n",
              "      <td>-0.263</td>\n",
              "      <td>-0.263</td>\n",
              "      <td>-0.263</td>\n",
              "      <td>-0.263</td>\n",
              "      <td>-0.263</td>\n",
              "      <td>-0.263</td>\n",
              "      <td>-0.263</td>\n",
              "      <td>-0.263</td>\n",
              "      <td>-0.251</td>\n",
              "    </tr>\n",
              "    <tr>\n",
              "      <th>2005-08-01</th>\n",
              "      <td>5.462</td>\n",
              "      <td>-0.263</td>\n",
              "      <td>-0.263</td>\n",
              "      <td>-0.263</td>\n",
              "      <td>-0.263</td>\n",
              "      <td>-0.263</td>\n",
              "      <td>-0.263</td>\n",
              "      <td>-0.263</td>\n",
              "      <td>-0.263</td>\n",
              "      <td>-0.263</td>\n",
              "      <td>-0.263</td>\n",
              "      <td>-0.263</td>\n",
              "      <td>-0.263</td>\n",
              "      <td>-0.263</td>\n",
              "      <td>-0.263</td>\n",
              "      <td>-0.251</td>\n",
              "    </tr>\n",
              "    <tr>\n",
              "      <th>2005-09-01</th>\n",
              "      <td>5.462</td>\n",
              "      <td>-0.263</td>\n",
              "      <td>-0.263</td>\n",
              "      <td>-0.263</td>\n",
              "      <td>-0.263</td>\n",
              "      <td>-0.263</td>\n",
              "      <td>-0.263</td>\n",
              "      <td>-0.263</td>\n",
              "      <td>-0.263</td>\n",
              "      <td>-0.263</td>\n",
              "      <td>-0.263</td>\n",
              "      <td>-0.263</td>\n",
              "      <td>-0.263</td>\n",
              "      <td>-0.263</td>\n",
              "      <td>-0.263</td>\n",
              "      <td>-0.251</td>\n",
              "    </tr>\n",
              "    <tr>\n",
              "      <th>2005-10-01</th>\n",
              "      <td>5.462</td>\n",
              "      <td>-0.263</td>\n",
              "      <td>-0.263</td>\n",
              "      <td>-0.263</td>\n",
              "      <td>-0.263</td>\n",
              "      <td>-0.263</td>\n",
              "      <td>-0.263</td>\n",
              "      <td>-0.263</td>\n",
              "      <td>-0.263</td>\n",
              "      <td>-0.263</td>\n",
              "      <td>-0.263</td>\n",
              "      <td>-0.263</td>\n",
              "      <td>-0.263</td>\n",
              "      <td>-0.263</td>\n",
              "      <td>-0.263</td>\n",
              "      <td>-0.251</td>\n",
              "    </tr>\n",
              "    <tr>\n",
              "      <th>2005-11-01</th>\n",
              "      <td>5.462</td>\n",
              "      <td>-0.263</td>\n",
              "      <td>-0.263</td>\n",
              "      <td>-0.263</td>\n",
              "      <td>-0.263</td>\n",
              "      <td>-0.263</td>\n",
              "      <td>-0.263</td>\n",
              "      <td>-0.263</td>\n",
              "      <td>-0.263</td>\n",
              "      <td>-0.263</td>\n",
              "      <td>-0.263</td>\n",
              "      <td>-0.263</td>\n",
              "      <td>-0.263</td>\n",
              "      <td>-0.263</td>\n",
              "      <td>-0.263</td>\n",
              "      <td>-0.251</td>\n",
              "    </tr>\n",
              "    <tr>\n",
              "      <th>...</th>\n",
              "      <td>...</td>\n",
              "      <td>...</td>\n",
              "      <td>...</td>\n",
              "      <td>...</td>\n",
              "      <td>...</td>\n",
              "      <td>...</td>\n",
              "      <td>...</td>\n",
              "      <td>...</td>\n",
              "      <td>...</td>\n",
              "      <td>...</td>\n",
              "      <td>...</td>\n",
              "      <td>...</td>\n",
              "      <td>...</td>\n",
              "      <td>...</td>\n",
              "      <td>...</td>\n",
              "      <td>...</td>\n",
              "    </tr>\n",
              "    <tr>\n",
              "      <th>2020-07-01</th>\n",
              "      <td>-0.183</td>\n",
              "      <td>-0.263</td>\n",
              "      <td>-0.263</td>\n",
              "      <td>-0.263</td>\n",
              "      <td>-0.263</td>\n",
              "      <td>-0.263</td>\n",
              "      <td>-0.263</td>\n",
              "      <td>-0.263</td>\n",
              "      <td>-0.263</td>\n",
              "      <td>-0.263</td>\n",
              "      <td>-0.263</td>\n",
              "      <td>-0.263</td>\n",
              "      <td>-0.263</td>\n",
              "      <td>-0.263</td>\n",
              "      <td>-0.263</td>\n",
              "      <td>3.977</td>\n",
              "    </tr>\n",
              "    <tr>\n",
              "      <th>2020-08-01</th>\n",
              "      <td>-0.183</td>\n",
              "      <td>-0.263</td>\n",
              "      <td>-0.263</td>\n",
              "      <td>-0.263</td>\n",
              "      <td>-0.263</td>\n",
              "      <td>-0.263</td>\n",
              "      <td>-0.263</td>\n",
              "      <td>-0.263</td>\n",
              "      <td>-0.263</td>\n",
              "      <td>-0.263</td>\n",
              "      <td>-0.263</td>\n",
              "      <td>-0.263</td>\n",
              "      <td>-0.263</td>\n",
              "      <td>-0.263</td>\n",
              "      <td>-0.263</td>\n",
              "      <td>3.977</td>\n",
              "    </tr>\n",
              "    <tr>\n",
              "      <th>2020-09-01</th>\n",
              "      <td>-0.183</td>\n",
              "      <td>-0.263</td>\n",
              "      <td>-0.263</td>\n",
              "      <td>-0.263</td>\n",
              "      <td>-0.263</td>\n",
              "      <td>-0.263</td>\n",
              "      <td>-0.263</td>\n",
              "      <td>-0.263</td>\n",
              "      <td>-0.263</td>\n",
              "      <td>-0.263</td>\n",
              "      <td>-0.263</td>\n",
              "      <td>-0.263</td>\n",
              "      <td>-0.263</td>\n",
              "      <td>-0.263</td>\n",
              "      <td>-0.263</td>\n",
              "      <td>3.977</td>\n",
              "    </tr>\n",
              "    <tr>\n",
              "      <th>2020-10-01</th>\n",
              "      <td>-0.183</td>\n",
              "      <td>-0.263</td>\n",
              "      <td>-0.263</td>\n",
              "      <td>-0.263</td>\n",
              "      <td>-0.263</td>\n",
              "      <td>-0.263</td>\n",
              "      <td>-0.263</td>\n",
              "      <td>-0.263</td>\n",
              "      <td>-0.263</td>\n",
              "      <td>-0.263</td>\n",
              "      <td>-0.263</td>\n",
              "      <td>-0.263</td>\n",
              "      <td>-0.263</td>\n",
              "      <td>-0.263</td>\n",
              "      <td>-0.263</td>\n",
              "      <td>3.977</td>\n",
              "    </tr>\n",
              "    <tr>\n",
              "      <th>2020-11-01</th>\n",
              "      <td>-0.183</td>\n",
              "      <td>-0.263</td>\n",
              "      <td>-0.263</td>\n",
              "      <td>-0.263</td>\n",
              "      <td>-0.263</td>\n",
              "      <td>-0.263</td>\n",
              "      <td>-0.263</td>\n",
              "      <td>-0.263</td>\n",
              "      <td>-0.263</td>\n",
              "      <td>-0.263</td>\n",
              "      <td>-0.263</td>\n",
              "      <td>-0.263</td>\n",
              "      <td>-0.263</td>\n",
              "      <td>-0.263</td>\n",
              "      <td>-0.263</td>\n",
              "      <td>3.977</td>\n",
              "    </tr>\n",
              "  </tbody>\n",
              "</table>\n",
              "<p>185 rows × 16 columns</p>\n",
              "</div>\n",
              "      <button class=\"colab-df-convert\" onclick=\"convertToInteractive('df-3a0e1d9a-3b99-40a3-941d-613230c50018')\"\n",
              "              title=\"Convert this dataframe to an interactive table.\"\n",
              "              style=\"display:none;\">\n",
              "        \n",
              "  <svg xmlns=\"http://www.w3.org/2000/svg\" height=\"24px\"viewBox=\"0 0 24 24\"\n",
              "       width=\"24px\">\n",
              "    <path d=\"M0 0h24v24H0V0z\" fill=\"none\"/>\n",
              "    <path d=\"M18.56 5.44l.94 2.06.94-2.06 2.06-.94-2.06-.94-.94-2.06-.94 2.06-2.06.94zm-11 1L8.5 8.5l.94-2.06 2.06-.94-2.06-.94L8.5 2.5l-.94 2.06-2.06.94zm10 10l.94 2.06.94-2.06 2.06-.94-2.06-.94-.94-2.06-.94 2.06-2.06.94z\"/><path d=\"M17.41 7.96l-1.37-1.37c-.4-.4-.92-.59-1.43-.59-.52 0-1.04.2-1.43.59L10.3 9.45l-7.72 7.72c-.78.78-.78 2.05 0 2.83L4 21.41c.39.39.9.59 1.41.59.51 0 1.02-.2 1.41-.59l7.78-7.78 2.81-2.81c.8-.78.8-2.07 0-2.86zM5.41 20L4 18.59l7.72-7.72 1.47 1.35L5.41 20z\"/>\n",
              "  </svg>\n",
              "      </button>\n",
              "      \n",
              "  <style>\n",
              "    .colab-df-container {\n",
              "      display:flex;\n",
              "      flex-wrap:wrap;\n",
              "      gap: 12px;\n",
              "    }\n",
              "\n",
              "    .colab-df-convert {\n",
              "      background-color: #E8F0FE;\n",
              "      border: none;\n",
              "      border-radius: 50%;\n",
              "      cursor: pointer;\n",
              "      display: none;\n",
              "      fill: #1967D2;\n",
              "      height: 32px;\n",
              "      padding: 0 0 0 0;\n",
              "      width: 32px;\n",
              "    }\n",
              "\n",
              "    .colab-df-convert:hover {\n",
              "      background-color: #E2EBFA;\n",
              "      box-shadow: 0px 1px 2px rgba(60, 64, 67, 0.3), 0px 1px 3px 1px rgba(60, 64, 67, 0.15);\n",
              "      fill: #174EA6;\n",
              "    }\n",
              "\n",
              "    [theme=dark] .colab-df-convert {\n",
              "      background-color: #3B4455;\n",
              "      fill: #D2E3FC;\n",
              "    }\n",
              "\n",
              "    [theme=dark] .colab-df-convert:hover {\n",
              "      background-color: #434B5C;\n",
              "      box-shadow: 0px 1px 3px 1px rgba(0, 0, 0, 0.15);\n",
              "      filter: drop-shadow(0px 1px 2px rgba(0, 0, 0, 0.3));\n",
              "      fill: #FFFFFF;\n",
              "    }\n",
              "  </style>\n",
              "\n",
              "      <script>\n",
              "        const buttonEl =\n",
              "          document.querySelector('#df-3a0e1d9a-3b99-40a3-941d-613230c50018 button.colab-df-convert');\n",
              "        buttonEl.style.display =\n",
              "          google.colab.kernel.accessAllowed ? 'block' : 'none';\n",
              "\n",
              "        async function convertToInteractive(key) {\n",
              "          const element = document.querySelector('#df-3a0e1d9a-3b99-40a3-941d-613230c50018');\n",
              "          const dataTable =\n",
              "            await google.colab.kernel.invokeFunction('convertToInteractive',\n",
              "                                                     [key], {});\n",
              "          if (!dataTable) return;\n",
              "\n",
              "          const docLinkHtml = 'Like what you see? Visit the ' +\n",
              "            '<a target=\"_blank\" href=https://colab.research.google.com/notebooks/data_table.ipynb>data table notebook</a>'\n",
              "            + ' to learn more about interactive tables.';\n",
              "          element.innerHTML = '';\n",
              "          dataTable['output_type'] = 'display_data';\n",
              "          await google.colab.output.renderOutput(dataTable, element);\n",
              "          const docLink = document.createElement('div');\n",
              "          docLink.innerHTML = docLinkHtml;\n",
              "          element.appendChild(docLink);\n",
              "        }\n",
              "      </script>\n",
              "    </div>\n",
              "  </div>\n",
              "  "
            ]
          },
          "metadata": {},
          "execution_count": 115
        }
      ]
    },
    {
      "cell_type": "code",
      "source": [
        "#applying log on dependent variable \n",
        "y = np.log10(df['Close'])"
      ],
      "metadata": {
        "id": "SrarkFp8dtSR"
      },
      "execution_count": 116,
      "outputs": []
    },
    {
      "cell_type": "code",
      "source": [
        "#Importing libraries\n",
        "from numpy import math\n",
        "from sklearn.model_selection import train_test_split\n",
        "from sklearn.metrics import r2_score\n",
        "from sklearn.metrics import mean_squared_error\n",
        "from sklearn.linear_model import LinearRegression, Lasso, Ridge"
      ],
      "metadata": {
        "id": "6AGFv3tAd0Wi"
      },
      "execution_count": 117,
      "outputs": []
    },
    {
      "cell_type": "code",
      "source": [
        "#Split our data into train and test datasets \n",
        "X_train,X_test,y_train,y_test = train_test_split(X,y,test_size = 0.2,random_state=0)\n",
        "print('X_train: ',X_train.shape)\n",
        "print('X_test: ',X_test.shape)\n",
        "print('y_train: ',y_train.shape)\n",
        "print('y_test: ',y_test.shape)"
      ],
      "metadata": {
        "colab": {
          "base_uri": "https://localhost:8080/"
        },
        "id": "45cBTvYkdx57",
        "outputId": "a9a75eb8-ca21-459a-c71f-0bf23abe371e"
      },
      "execution_count": 118,
      "outputs": [
        {
          "output_type": "stream",
          "name": "stdout",
          "text": [
            "X_train:  (148, 16)\n",
            "X_test:  (37, 16)\n",
            "y_train:  (148,)\n",
            "y_test:  (37,)\n"
          ]
        }
      ]
    },
    {
      "cell_type": "code",
      "source": [
        "#Creating DataFrames of test and train dataset\n",
        "train_df = pd.DataFrame(X_train,y_train)\n",
        "test_df = pd.DataFrame(10**y_test)\n",
        "test_df.rename(columns = {'Close':'Actual Closing Price'},inplace = True)"
      ],
      "metadata": {
        "id": "UWaqo7IAp-e2"
      },
      "execution_count": 119,
      "outputs": []
    },
    {
      "cell_type": "code",
      "source": [
        "#Applying Linear Regression \n",
        "lr = LinearRegression()\n",
        "lin_reg = lr.fit(X_train,y_train)"
      ],
      "metadata": {
        "id": "E8BGLVvveezT"
      },
      "execution_count": 120,
      "outputs": []
    },
    {
      "cell_type": "code",
      "source": [
        "#Checking efficiency of training model\n",
        "lin_reg.score(X_train,y_train)"
      ],
      "metadata": {
        "colab": {
          "base_uri": "https://localhost:8080/"
        },
        "id": "7YFdz71qejUs",
        "outputId": "107242ac-7499-4f3e-e26b-cc12956ee280"
      },
      "execution_count": 98,
      "outputs": [
        {
          "output_type": "execute_result",
          "data": {
            "text/plain": [
              "0.8997396183269408"
            ]
          },
          "metadata": {},
          "execution_count": 98
        }
      ]
    },
    {
      "cell_type": "code",
      "source": [
        "#getting regression coefficients \n",
        "print('Intercept:',lin_reg.intercept_)\n",
        "print('Regressors: \\n',lin_reg.coef_)"
      ],
      "metadata": {
        "colab": {
          "base_uri": "https://localhost:8080/"
        },
        "id": "r5pP3CbBhtQN",
        "outputId": "c30fc457-02ff-4d33-afce-1d178cd81390"
      },
      "execution_count": 121,
      "outputs": [
        {
          "output_type": "stream",
          "name": "stdout",
          "text": [
            "Intercept: 50836451183.06549\n",
            "Regressors: \n",
            " [-6.82628832e+12 -9.49123092e+12 -9.49123092e+12 -9.49123092e+12\n",
            " -9.49123092e+12 -9.49123092e+12 -9.49123092e+12 -9.49123092e+12\n",
            " -9.49123092e+12 -9.49123092e+12 -9.49123092e+12 -9.49123092e+12\n",
            " -9.49123092e+12 -9.49123092e+12 -9.49123092e+12 -9.11409592e+12]\n"
          ]
        }
      ]
    },
    {
      "cell_type": "code",
      "source": [
        "#Predict y_test on the basis of train sets\n",
        "y_pred = lin_reg.predict(X_test)\n",
        "print(\"Printed values of Y: \\n\",y_pred)"
      ],
      "metadata": {
        "colab": {
          "base_uri": "https://localhost:8080/"
        },
        "id": "JdlboouAhzcp",
        "outputId": "151b576c-d1a0-4d45-f506-7744a48208c6"
      },
      "execution_count": 122,
      "outputs": [
        {
          "output_type": "stream",
          "name": "stdout",
          "text": [
            "Printed values of Y: \n",
            " [1.39361572 2.21783447 1.96002197 1.97564697 1.77252197 1.56549072\n",
            " 2.27642822 1.33892822 1.13580322 1.96002197 2.42486572 1.96002197\n",
            " 2.21783447 1.76080322 2.42486572 1.96002197 1.77252197 1.39361572\n",
            " 2.49908447 1.77252197 1.45611572 1.97564697 1.96002197 1.77252197\n",
            " 2.27642822 1.96002197 2.27642822 1.13580322 1.97564697 1.76080322\n",
            " 2.42486572 2.49908447 1.87408447 2.21783447 1.56549072 1.77252197\n",
            " 2.27545166]\n"
          ]
        }
      ]
    },
    {
      "cell_type": "code",
      "source": [
        "test_df['Predicted Closing Price'] = 10**y_pred\n",
        "test_df.head(3)"
      ],
      "metadata": {
        "colab": {
          "base_uri": "https://localhost:8080/",
          "height": 175
        },
        "id": "HuGFYlz1qVQK",
        "outputId": "96594409-8207-4c31-b51b-bfe0672bec3e"
      },
      "execution_count": 123,
      "outputs": [
        {
          "output_type": "execute_result",
          "data": {
            "text/plain": [
              "            Actual Closing Price  Predicted Closing Price\n",
              "Date                                                     \n",
              "2008-04-01                 34.06                24.752309\n",
              "2015-12-01                145.23               165.133229\n",
              "2019-12-01                 46.95                91.205698"
            ],
            "text/html": [
              "\n",
              "  <div id=\"df-6cbf66b9-50db-440f-8877-f1fa2c10d544\">\n",
              "    <div class=\"colab-df-container\">\n",
              "      <div>\n",
              "<style scoped>\n",
              "    .dataframe tbody tr th:only-of-type {\n",
              "        vertical-align: middle;\n",
              "    }\n",
              "\n",
              "    .dataframe tbody tr th {\n",
              "        vertical-align: top;\n",
              "    }\n",
              "\n",
              "    .dataframe thead th {\n",
              "        text-align: right;\n",
              "    }\n",
              "</style>\n",
              "<table border=\"1\" class=\"dataframe\">\n",
              "  <thead>\n",
              "    <tr style=\"text-align: right;\">\n",
              "      <th></th>\n",
              "      <th>Actual Closing Price</th>\n",
              "      <th>Predicted Closing Price</th>\n",
              "    </tr>\n",
              "    <tr>\n",
              "      <th>Date</th>\n",
              "      <th></th>\n",
              "      <th></th>\n",
              "    </tr>\n",
              "  </thead>\n",
              "  <tbody>\n",
              "    <tr>\n",
              "      <th>2008-04-01</th>\n",
              "      <td>34.06</td>\n",
              "      <td>24.752309</td>\n",
              "    </tr>\n",
              "    <tr>\n",
              "      <th>2015-12-01</th>\n",
              "      <td>145.23</td>\n",
              "      <td>165.133229</td>\n",
              "    </tr>\n",
              "    <tr>\n",
              "      <th>2019-12-01</th>\n",
              "      <td>46.95</td>\n",
              "      <td>91.205698</td>\n",
              "    </tr>\n",
              "  </tbody>\n",
              "</table>\n",
              "</div>\n",
              "      <button class=\"colab-df-convert\" onclick=\"convertToInteractive('df-6cbf66b9-50db-440f-8877-f1fa2c10d544')\"\n",
              "              title=\"Convert this dataframe to an interactive table.\"\n",
              "              style=\"display:none;\">\n",
              "        \n",
              "  <svg xmlns=\"http://www.w3.org/2000/svg\" height=\"24px\"viewBox=\"0 0 24 24\"\n",
              "       width=\"24px\">\n",
              "    <path d=\"M0 0h24v24H0V0z\" fill=\"none\"/>\n",
              "    <path d=\"M18.56 5.44l.94 2.06.94-2.06 2.06-.94-2.06-.94-.94-2.06-.94 2.06-2.06.94zm-11 1L8.5 8.5l.94-2.06 2.06-.94-2.06-.94L8.5 2.5l-.94 2.06-2.06.94zm10 10l.94 2.06.94-2.06 2.06-.94-2.06-.94-.94-2.06-.94 2.06-2.06.94z\"/><path d=\"M17.41 7.96l-1.37-1.37c-.4-.4-.92-.59-1.43-.59-.52 0-1.04.2-1.43.59L10.3 9.45l-7.72 7.72c-.78.78-.78 2.05 0 2.83L4 21.41c.39.39.9.59 1.41.59.51 0 1.02-.2 1.41-.59l7.78-7.78 2.81-2.81c.8-.78.8-2.07 0-2.86zM5.41 20L4 18.59l7.72-7.72 1.47 1.35L5.41 20z\"/>\n",
              "  </svg>\n",
              "      </button>\n",
              "      \n",
              "  <style>\n",
              "    .colab-df-container {\n",
              "      display:flex;\n",
              "      flex-wrap:wrap;\n",
              "      gap: 12px;\n",
              "    }\n",
              "\n",
              "    .colab-df-convert {\n",
              "      background-color: #E8F0FE;\n",
              "      border: none;\n",
              "      border-radius: 50%;\n",
              "      cursor: pointer;\n",
              "      display: none;\n",
              "      fill: #1967D2;\n",
              "      height: 32px;\n",
              "      padding: 0 0 0 0;\n",
              "      width: 32px;\n",
              "    }\n",
              "\n",
              "    .colab-df-convert:hover {\n",
              "      background-color: #E2EBFA;\n",
              "      box-shadow: 0px 1px 2px rgba(60, 64, 67, 0.3), 0px 1px 3px 1px rgba(60, 64, 67, 0.15);\n",
              "      fill: #174EA6;\n",
              "    }\n",
              "\n",
              "    [theme=dark] .colab-df-convert {\n",
              "      background-color: #3B4455;\n",
              "      fill: #D2E3FC;\n",
              "    }\n",
              "\n",
              "    [theme=dark] .colab-df-convert:hover {\n",
              "      background-color: #434B5C;\n",
              "      box-shadow: 0px 1px 3px 1px rgba(0, 0, 0, 0.15);\n",
              "      filter: drop-shadow(0px 1px 2px rgba(0, 0, 0, 0.3));\n",
              "      fill: #FFFFFF;\n",
              "    }\n",
              "  </style>\n",
              "\n",
              "      <script>\n",
              "        const buttonEl =\n",
              "          document.querySelector('#df-6cbf66b9-50db-440f-8877-f1fa2c10d544 button.colab-df-convert');\n",
              "        buttonEl.style.display =\n",
              "          google.colab.kernel.accessAllowed ? 'block' : 'none';\n",
              "\n",
              "        async function convertToInteractive(key) {\n",
              "          const element = document.querySelector('#df-6cbf66b9-50db-440f-8877-f1fa2c10d544');\n",
              "          const dataTable =\n",
              "            await google.colab.kernel.invokeFunction('convertToInteractive',\n",
              "                                                     [key], {});\n",
              "          if (!dataTable) return;\n",
              "\n",
              "          const docLinkHtml = 'Like what you see? Visit the ' +\n",
              "            '<a target=\"_blank\" href=https://colab.research.google.com/notebooks/data_table.ipynb>data table notebook</a>'\n",
              "            + ' to learn more about interactive tables.';\n",
              "          element.innerHTML = '';\n",
              "          dataTable['output_type'] = 'display_data';\n",
              "          await google.colab.output.renderOutput(dataTable, element);\n",
              "          const docLink = document.createElement('div');\n",
              "          docLink.innerHTML = docLinkHtml;\n",
              "          element.appendChild(docLink);\n",
              "        }\n",
              "      </script>\n",
              "    </div>\n",
              "  </div>\n",
              "  "
            ]
          },
          "metadata": {},
          "execution_count": 123
        }
      ]
    },
    {
      "cell_type": "code",
      "source": [
        "def evaluation_metrics(data):\n",
        "  MSE = mean_squared_error(y_test,data)\n",
        "  print(\"Mean Squared Error: \",MSE)\n",
        "  RMSE = np.sqrt(MSE)\n",
        "  print(\"Root Mean Squared Error: \",RMSE)\n",
        "  r2 = r2_score(y_test,data)\n",
        "  print(\"R2: \",r2)\n",
        "  adjusted_r2 = 1-(1-r2_score(y_test,data))*(X_test.shape[0]-1)/((X_test.shape[0]-X_test.shape[1]-1))\n",
        "  print(\"Adjusted R2: \",adjusted_r2)\n",
        "  return"
      ],
      "metadata": {
        "id": "KKwoWOBNmEFJ"
      },
      "execution_count": 124,
      "outputs": []
    },
    {
      "cell_type": "code",
      "source": [
        "evaluation_metrics(y_pred)"
      ],
      "metadata": {
        "colab": {
          "base_uri": "https://localhost:8080/"
        },
        "id": "Kxysdig-noAT",
        "outputId": "a4480870-e55f-41a2-dae8-57b4cc44af9e"
      },
      "execution_count": 125,
      "outputs": [
        {
          "output_type": "stream",
          "name": "stdout",
          "text": [
            "Mean Squared Error:  0.023821299700356863\n",
            "Root Mean Squared Error:  0.15434150349260195\n",
            "R2:  0.8721226040521943\n",
            "Adjusted R2:  0.7698206872939498\n"
          ]
        }
      ]
    },
    {
      "cell_type": "code",
      "source": [
        "#Mean Absolute Error\n",
        "from sklearn.metrics import mean_absolute_percentage_error\n",
        "MAE  = mean_absolute_percentage_error"
      ],
      "metadata": {
        "id": "QnDhxWw4nwbI"
      },
      "execution_count": 126,
      "outputs": []
    },
    {
      "cell_type": "code",
      "source": [
        "#Graph between Actual Close price and Predicted Price\n",
        "test_df.plot(kind='bar',figsize=(16,8))   \n",
        "plt.grid(True)\n",
        "plt.xlabel('Date',fontsize = 14)\n",
        "plt.ylabel('Price (₹)',fontsize = 14)\n",
        "plt.title('Actual closing price vs Predicted Price by Linear Regression')\n",
        "plt.show()\n",
        "test_df.shape"
      ],
      "metadata": {
        "colab": {
          "base_uri": "https://localhost:8080/",
          "height": 629
        },
        "id": "jgBNKu7-n1Wr",
        "outputId": "0a189a6a-2e42-468f-b578-56b712e34252"
      },
      "execution_count": 155,
      "outputs": [
        {
          "output_type": "display_data",
          "data": {
            "text/plain": [
              "<Figure size 1152x576 with 1 Axes>"
            ],
            "image/png": "[encoded data removed]"
          },
          "metadata": {
            "needs_background": "light"
          }
        },
        {
          "output_type": "execute_result",
          "data": {
            "text/plain": [
              "(37, 4)"
            ]
          },
          "metadata": {},
          "execution_count": 155
        }
      ]
    },
    {
      "cell_type": "code",
      "source": [
        "#Graph between Actual Close price and Predicted Price\n",
        "test_df.plot(figsize = (14,6))\n",
        "plt.grid(True)\n",
        "plt.xlabel('Date',fontsize = 14)\n",
        "plt.ylabel('Price (₹)',fontsize = 14)\n",
        "plt.title('Actual closing price vs Predicted Price by Linear Regression with MAE :{:.2f}%'.format(MAE(10**y_test,10**y_pred)),fontweight = 'bold',fontsize = 14)\n",
        "plt.legend()\n",
        "plt.show()"
      ],
      "metadata": {
        "colab": {
          "base_uri": "https://localhost:8080/",
          "height": 388
        },
        "id": "ohlj48MaEjA3",
        "outputId": "8e7d4a33-dea3-42c1-acc0-ad03d490d6ca"
      },
      "execution_count": 127,
      "outputs": [
        {
          "output_type": "display_data",
          "data": {
            "text/plain": [
              "<Figure size 1008x432 with 1 Axes>"
            ],
            "image/png": "[encoded data removed]"
          },
          "metadata": {
            "needs_background": "light"
          }
        }
      ]
    },
    {
      "cell_type": "markdown",
      "source": [
        "## RIDGE REGRESSION"
      ],
      "metadata": {
        "id": "MCGMlFoJn_PM"
      }
    },
    {
      "cell_type": "code",
      "source": [
        "ridge  = Lasso(alpha=0.1 , max_iter= 5000)\n",
        "ridge.fit(X_train, y_train)"
      ],
      "metadata": {
        "colab": {
          "base_uri": "https://localhost:8080/"
        },
        "id": "UONHx1eRoFKD",
        "outputId": "bcd44745-6b16-4209-a701-9e6e9633b0cb"
      },
      "execution_count": 130,
      "outputs": [
        {
          "output_type": "execute_result",
          "data": {
            "text/plain": [
              "Lasso(alpha=0.1, max_iter=5000)"
            ]
          },
          "metadata": {},
          "execution_count": 130
        }
      ]
    },
    {
      "cell_type": "code",
      "source": [
        "ridge.score(X_train,y_train)"
      ],
      "metadata": {
        "colab": {
          "base_uri": "https://localhost:8080/"
        },
        "id": "_9QZIn1qoMJf",
        "outputId": "3ae22d66-221b-4ea7-e4b6-2ca97eb369a1"
      },
      "execution_count": 131,
      "outputs": [
        {
          "output_type": "execute_result",
          "data": {
            "text/plain": [
              "0.36890415203263927"
            ]
          },
          "metadata": {},
          "execution_count": 131
        }
      ]
    },
    {
      "cell_type": "code",
      "source": [
        "y_pred_r = ridge.predict(X_test)"
      ],
      "metadata": {
        "id": "QFsGXyIloQkE"
      },
      "execution_count": 132,
      "outputs": []
    },
    {
      "cell_type": "code",
      "source": [
        "#Getting evaluation metrics for Lasso\n",
        "evaluation_metrics(y_pred_r)"
      ],
      "metadata": {
        "colab": {
          "base_uri": "https://localhost:8080/"
        },
        "id": "hJcL1IWjoUR0",
        "outputId": "a96be812-1be4-4dad-b594-f4917834085a"
      },
      "execution_count": 133,
      "outputs": [
        {
          "output_type": "stream",
          "name": "stdout",
          "text": [
            "Mean Squared Error:  0.1546051092672051\n",
            "Root Mean Squared Error:  0.39319856213776405\n",
            "R2:  0.17004953457598393\n",
            "Adjusted R2:  -0.49391083776322886\n"
          ]
        }
      ]
    },
    {
      "cell_type": "markdown",
      "source": [
        "## Applying cross validation and Hyperparameter Tuning in Ridge"
      ],
      "metadata": {
        "id": "agN2m82htk7u"
      }
    },
    {
      "cell_type": "code",
      "source": [
        "# Applying ridge regression to penalize our parameters\n",
        "from sklearn.model_selection import GridSearchCV\n",
        "ridge = Ridge()\n",
        "parameters = {'alpha': [1e-15,1e-10,1e-8,1e-5,1e-4,1e-3,1e-2,1,2,3,5,10,20,30,40,45,50,55,60,100]}\n",
        "ridge_regressor = GridSearchCV(ridge, parameters, scoring='neg_mean_squared_error', cv=5)\n",
        "ridge_regressor.fit(X_train,y_train)"
      ],
      "metadata": {
        "colab": {
          "base_uri": "https://localhost:8080/"
        },
        "id": "Ygcuy3hutmg8",
        "outputId": "1ccff91a-7739-42d4-a223-9f0c38016d69"
      },
      "execution_count": 135,
      "outputs": [
        {
          "output_type": "execute_result",
          "data": {
            "text/plain": [
              "GridSearchCV(cv=5, estimator=Ridge(),\n",
              "             param_grid={'alpha': [1e-15, 1e-10, 1e-08, 1e-05, 0.0001, 0.001,\n",
              "                                   0.01, 1, 2, 3, 5, 10, 20, 30, 40, 45, 50, 55,\n",
              "                                   60, 100]},\n",
              "             scoring='neg_mean_squared_error')"
            ]
          },
          "metadata": {},
          "execution_count": 135
        }
      ]
    },
    {
      "cell_type": "code",
      "source": [
        "print(\"Best Alpha :\" ,ridge_regressor.best_params_)\n",
        "print(\"\\n By Using \",ridge_regressor.best_params_, \" Negative mean squared error is: \", ridge_regressor.best_score_)"
      ],
      "metadata": {
        "colab": {
          "base_uri": "https://localhost:8080/"
        },
        "id": "cn_l9DVTwCtu",
        "outputId": "b405e940-af16-43e5-cccf-3b4de70c058a"
      },
      "execution_count": 136,
      "outputs": [
        {
          "output_type": "stream",
          "name": "stdout",
          "text": [
            "Best Alpha : {'alpha': 3}\n",
            "\n",
            " By Using  {'alpha': 3}  Negative mean squared error is:  -0.022977515852426994\n"
          ]
        }
      ]
    },
    {
      "cell_type": "code",
      "source": [
        "y_pred_ridge = ridge_regressor.predict(X_test)"
      ],
      "metadata": {
        "id": "_KYyUnvRwHAW"
      },
      "execution_count": 137,
      "outputs": []
    },
    {
      "cell_type": "code",
      "source": [
        "#Evaluation metrics for Ridge\n",
        "evaluation_metrics(y_pred_ridge)"
      ],
      "metadata": {
        "colab": {
          "base_uri": "https://localhost:8080/"
        },
        "id": "dOnevpm-wKno",
        "outputId": "12a71167-f6bc-4d0e-e341-080601bea1a7"
      },
      "execution_count": 138,
      "outputs": [
        {
          "output_type": "stream",
          "name": "stdout",
          "text": [
            "Mean Squared Error:  0.02303525255504649\n",
            "Root Mean Squared Error:  0.15177368861250784\n",
            "R2:  0.8763422588694749\n",
            "Adjusted R2:  0.7774160659650549\n"
          ]
        }
      ]
    },
    {
      "cell_type": "code",
      "source": [
        "test_df['Ridge Predicted Closing Price'] = 10**y_pred_ridge\n",
        "ridge_df = test_df.loc[:,['Actual Closing Price','Ridge Predicted Closing Price']]\n",
        "ridge_df.head(5)"
      ],
      "metadata": {
        "colab": {
          "base_uri": "https://localhost:8080/",
          "height": 237
        },
        "id": "-NULhJwGwQ8a",
        "outputId": "4aa678ca-a9dc-4816-9403-786b374d22ed"
      },
      "execution_count": 140,
      "outputs": [
        {
          "output_type": "execute_result",
          "data": {
            "text/plain": [
              "            Actual Closing Price  Ridge Predicted Closing Price\n",
              "Date                                                           \n",
              "2008-04-01                 34.06                      25.354492\n",
              "2015-12-01                145.23                     158.816091\n",
              "2019-12-01                 46.95                      93.501663\n",
              "2014-11-01                142.08                      97.027787\n",
              "2010-08-01                 62.22                      58.970950"
            ],
            "text/html": [
              "\n",
              "  <div id=\"df-f554d65f-ccdd-4bb1-b13e-b856c2009e6a\">\n",
              "    <div class=\"colab-df-container\">\n",
              "      <div>\n",
              "<style scoped>\n",
              "    .dataframe tbody tr th:only-of-type {\n",
              "        vertical-align: middle;\n",
              "    }\n",
              "\n",
              "    .dataframe tbody tr th {\n",
              "        vertical-align: top;\n",
              "    }\n",
              "\n",
              "    .dataframe thead th {\n",
              "        text-align: right;\n",
              "    }\n",
              "</style>\n",
              "<table border=\"1\" class=\"dataframe\">\n",
              "  <thead>\n",
              "    <tr style=\"text-align: right;\">\n",
              "      <th></th>\n",
              "      <th>Actual Closing Price</th>\n",
              "      <th>Ridge Predicted Closing Price</th>\n",
              "    </tr>\n",
              "    <tr>\n",
              "      <th>Date</th>\n",
              "      <th></th>\n",
              "      <th></th>\n",
              "    </tr>\n",
              "  </thead>\n",
              "  <tbody>\n",
              "    <tr>\n",
              "      <th>2008-04-01</th>\n",
              "      <td>34.06</td>\n",
              "      <td>25.354492</td>\n",
              "    </tr>\n",
              "    <tr>\n",
              "      <th>2015-12-01</th>\n",
              "      <td>145.23</td>\n",
              "      <td>158.816091</td>\n",
              "    </tr>\n",
              "    <tr>\n",
              "      <th>2019-12-01</th>\n",
              "      <td>46.95</td>\n",
              "      <td>93.501663</td>\n",
              "    </tr>\n",
              "    <tr>\n",
              "      <th>2014-11-01</th>\n",
              "      <td>142.08</td>\n",
              "      <td>97.027787</td>\n",
              "    </tr>\n",
              "    <tr>\n",
              "      <th>2010-08-01</th>\n",
              "      <td>62.22</td>\n",
              "      <td>58.970950</td>\n",
              "    </tr>\n",
              "  </tbody>\n",
              "</table>\n",
              "</div>\n",
              "      <button class=\"colab-df-convert\" onclick=\"convertToInteractive('df-f554d65f-ccdd-4bb1-b13e-b856c2009e6a')\"\n",
              "              title=\"Convert this dataframe to an interactive table.\"\n",
              "              style=\"display:none;\">\n",
              "        \n",
              "  <svg xmlns=\"http://www.w3.org/2000/svg\" height=\"24px\"viewBox=\"0 0 24 24\"\n",
              "       width=\"24px\">\n",
              "    <path d=\"M0 0h24v24H0V0z\" fill=\"none\"/>\n",
              "    <path d=\"M18.56 5.44l.94 2.06.94-2.06 2.06-.94-2.06-.94-.94-2.06-.94 2.06-2.06.94zm-11 1L8.5 8.5l.94-2.06 2.06-.94-2.06-.94L8.5 2.5l-.94 2.06-2.06.94zm10 10l.94 2.06.94-2.06 2.06-.94-2.06-.94-.94-2.06-.94 2.06-2.06.94z\"/><path d=\"M17.41 7.96l-1.37-1.37c-.4-.4-.92-.59-1.43-.59-.52 0-1.04.2-1.43.59L10.3 9.45l-7.72 7.72c-.78.78-.78 2.05 0 2.83L4 21.41c.39.39.9.59 1.41.59.51 0 1.02-.2 1.41-.59l7.78-7.78 2.81-2.81c.8-.78.8-2.07 0-2.86zM5.41 20L4 18.59l7.72-7.72 1.47 1.35L5.41 20z\"/>\n",
              "  </svg>\n",
              "      </button>\n",
              "      \n",
              "  <style>\n",
              "    .colab-df-container {\n",
              "      display:flex;\n",
              "      flex-wrap:wrap;\n",
              "      gap: 12px;\n",
              "    }\n",
              "\n",
              "    .colab-df-convert {\n",
              "      background-color: #E8F0FE;\n",
              "      border: none;\n",
              "      border-radius: 50%;\n",
              "      cursor: pointer;\n",
              "      display: none;\n",
              "      fill: #1967D2;\n",
              "      height: 32px;\n",
              "      padding: 0 0 0 0;\n",
              "      width: 32px;\n",
              "    }\n",
              "\n",
              "    .colab-df-convert:hover {\n",
              "      background-color: #E2EBFA;\n",
              "      box-shadow: 0px 1px 2px rgba(60, 64, 67, 0.3), 0px 1px 3px 1px rgba(60, 64, 67, 0.15);\n",
              "      fill: #174EA6;\n",
              "    }\n",
              "\n",
              "    [theme=dark] .colab-df-convert {\n",
              "      background-color: #3B4455;\n",
              "      fill: #D2E3FC;\n",
              "    }\n",
              "\n",
              "    [theme=dark] .colab-df-convert:hover {\n",
              "      background-color: #434B5C;\n",
              "      box-shadow: 0px 1px 3px 1px rgba(0, 0, 0, 0.15);\n",
              "      filter: drop-shadow(0px 1px 2px rgba(0, 0, 0, 0.3));\n",
              "      fill: #FFFFFF;\n",
              "    }\n",
              "  </style>\n",
              "\n",
              "      <script>\n",
              "        const buttonEl =\n",
              "          document.querySelector('#df-f554d65f-ccdd-4bb1-b13e-b856c2009e6a button.colab-df-convert');\n",
              "        buttonEl.style.display =\n",
              "          google.colab.kernel.accessAllowed ? 'block' : 'none';\n",
              "\n",
              "        async function convertToInteractive(key) {\n",
              "          const element = document.querySelector('#df-f554d65f-ccdd-4bb1-b13e-b856c2009e6a');\n",
              "          const dataTable =\n",
              "            await google.colab.kernel.invokeFunction('convertToInteractive',\n",
              "                                                     [key], {});\n",
              "          if (!dataTable) return;\n",
              "\n",
              "          const docLinkHtml = 'Like what you see? Visit the ' +\n",
              "            '<a target=\"_blank\" href=https://colab.research.google.com/notebooks/data_table.ipynb>data table notebook</a>'\n",
              "            + ' to learn more about interactive tables.';\n",
              "          element.innerHTML = '';\n",
              "          dataTable['output_type'] = 'display_data';\n",
              "          await google.colab.output.renderOutput(dataTable, element);\n",
              "          const docLink = document.createElement('div');\n",
              "          docLink.innerHTML = docLinkHtml;\n",
              "          element.appendChild(docLink);\n",
              "        }\n",
              "      </script>\n",
              "    </div>\n",
              "  </div>\n",
              "  "
            ]
          },
          "metadata": {},
          "execution_count": 140
        }
      ]
    },
    {
      "cell_type": "code",
      "source": [
        "#Graph between Actual Close price and Ridge Predicted Price\n",
        "ridge_df.plot(figsize=(16,8))   \n",
        "plt.grid(True)\n",
        "plt.xlabel('Date',fontsize = 14)\n",
        "plt.ylabel('Price (₹)',fontsize = 14)\n",
        "plt.title('Actual closing price vs Ridge Predicted Price by Linear Regression')\n",
        "plt.show()\n",
        "test_df.shape"
      ],
      "metadata": {
        "colab": {
          "base_uri": "https://localhost:8080/",
          "height": 502
        },
        "id": "d0uWGjpBwiM_",
        "outputId": "a15ea390-e20d-43ee-beba-09d30f41f2ac"
      },
      "execution_count": 160,
      "outputs": [
        {
          "output_type": "display_data",
          "data": {
            "text/plain": [
              "<Figure size 1152x576 with 1 Axes>"
            ],
            "image/png": "[encoded data removed]"
          },
          "metadata": {
            "needs_background": "light"
          }
        },
        {
          "output_type": "execute_result",
          "data": {
            "text/plain": [
              "(37, 4)"
            ]
          },
          "metadata": {},
          "execution_count": 160
        }
      ]
    },
    {
      "cell_type": "markdown",
      "source": [
        "## LASSO REGRESSION"
      ],
      "metadata": {
        "id": "5yhvC-rXxTC9"
      }
    },
    {
      "cell_type": "code",
      "source": [
        "lasso  = Lasso(alpha=0.0001 , max_iter= 6000)\n",
        "lasso.fit(X_train, y_train)"
      ],
      "metadata": {
        "colab": {
          "base_uri": "https://localhost:8080/"
        },
        "id": "jqqiX0YkxVSv",
        "outputId": "8710c7a9-762f-467a-9804-ea5ea9696ee8"
      },
      "execution_count": 143,
      "outputs": [
        {
          "output_type": "execute_result",
          "data": {
            "text/plain": [
              "Lasso(alpha=0.0001, max_iter=6000)"
            ]
          },
          "metadata": {},
          "execution_count": 143
        }
      ]
    },
    {
      "cell_type": "code",
      "source": [
        "lasso.score(X_train, y_train)"
      ],
      "metadata": {
        "colab": {
          "base_uri": "https://localhost:8080/"
        },
        "id": "YXA5QllAxXRN",
        "outputId": "c5f76ecd-722c-4558-d99b-7ab6626b0886"
      },
      "execution_count": 144,
      "outputs": [
        {
          "output_type": "execute_result",
          "data": {
            "text/plain": [
              "0.9013874098784039"
            ]
          },
          "metadata": {},
          "execution_count": 144
        }
      ]
    },
    {
      "cell_type": "code",
      "source": [
        "y_pred_L = lasso.predict(X_test)\n",
        "y_pred_L"
      ],
      "metadata": {
        "colab": {
          "base_uri": "https://localhost:8080/"
        },
        "id": "cW65pMRjxZas",
        "outputId": "a6ce5caf-6303-4916-f8b1-f68bd8dbca0c"
      },
      "execution_count": 145,
      "outputs": [
        {
          "output_type": "execute_result",
          "data": {
            "text/plain": [
              "array([1.39679586, 2.20814358, 1.97472231, 1.98981631, 1.76980887,\n",
              "       1.56195648, 2.29117282, 1.2862905 , 1.11581727, 1.97472231,\n",
              "       2.41608053, 1.97472231, 2.20814358, 1.75584653, 2.41608053,\n",
              "       1.97472231, 1.76980887, 1.39679586, 2.495915  , 1.76980887,\n",
              "       1.44650667, 1.98981631, 1.97472231, 1.76980887, 2.29117282,\n",
              "       1.97472231, 2.29117282, 1.11581727, 1.98981631, 1.75584653,\n",
              "       2.41608053, 2.495915  , 1.86658692, 2.20814358, 1.56195648,\n",
              "       1.76980887, 2.29117282])"
            ]
          },
          "metadata": {},
          "execution_count": 145
        }
      ]
    },
    {
      "cell_type": "code",
      "source": [
        "#Evaluation metrics for Lasso\n",
        "evaluation_metrics(y_pred_L)"
      ],
      "metadata": {
        "colab": {
          "base_uri": "https://localhost:8080/"
        },
        "id": "OWWdqaZyxflR",
        "outputId": "6c3c13da-5097-425f-c023-619b39eeac76"
      },
      "execution_count": 146,
      "outputs": [
        {
          "output_type": "stream",
          "name": "stdout",
          "text": [
            "Mean Squared Error:  0.022376640950062702\n",
            "Root Mean Squared Error:  0.14958823800707963\n",
            "R2:  0.8798778147814418\n",
            "Adjusted R2:  0.7837800666065953\n"
          ]
        }
      ]
    },
    {
      "cell_type": "code",
      "source": [
        "# Cross Validation \n",
        "lasso = Lasso()\n",
        "parameters = {'alpha': [1e-15,1e-13,1e-10,1e-8,1e-5,1e-4,1e-3,1e-2,1e-1,1,5,0.0014]}\n",
        "lasso_regressor = GridSearchCV(lasso, parameters, scoring='neg_mean_squared_error', cv=5)\n",
        "lasso_regressor.fit(X_train, y_train)"
      ],
      "metadata": {
        "colab": {
          "base_uri": "https://localhost:8080/"
        },
        "id": "1h99tM6AxkdS",
        "outputId": "cf861b01-e9db-4407-ea8e-8b5d0959613c"
      },
      "execution_count": 147,
      "outputs": [
        {
          "output_type": "execute_result",
          "data": {
            "text/plain": [
              "GridSearchCV(cv=5, estimator=Lasso(),\n",
              "             param_grid={'alpha': [1e-15, 1e-13, 1e-10, 1e-08, 1e-05, 0.0001,\n",
              "                                   0.001, 0.01, 0.1, 1, 5, 0.0014]},\n",
              "             scoring='neg_mean_squared_error')"
            ]
          },
          "metadata": {},
          "execution_count": 147
        }
      ]
    },
    {
      "cell_type": "code",
      "source": [
        "print(\"Best fit alpha value:\" ,lasso_regressor.best_params_)\n",
        "print(\"\\nBy Using \",lasso_regressor.best_params_, \" Negative mean squared error is: \", lasso_regressor.best_score_)"
      ],
      "metadata": {
        "colab": {
          "base_uri": "https://localhost:8080/"
        },
        "id": "sIgDvEvOxqhS",
        "outputId": "9d564c49-a941-4592-95ad-7c4bffe71daf"
      },
      "execution_count": 148,
      "outputs": [
        {
          "output_type": "stream",
          "name": "stdout",
          "text": [
            "Best fit alpha value: {'alpha': 0.0014}\n",
            "\n",
            "By Using  {'alpha': 0.0014}  Negative mean squared error is:  -0.02313418183474201\n"
          ]
        }
      ]
    },
    {
      "cell_type": "code",
      "source": [
        "y_pred_lasso = lasso_regressor.predict(X_test)\n",
        "y_pred_lasso"
      ],
      "metadata": {
        "colab": {
          "base_uri": "https://localhost:8080/"
        },
        "id": "fZqW3Uzix0xq",
        "outputId": "3847d109-1bca-4a17-f971-a857413c6637"
      },
      "execution_count": 149,
      "outputs": [
        {
          "output_type": "execute_result",
          "data": {
            "text/plain": [
              "array([1.40151429, 2.20286958, 1.96682203, 1.98454052, 1.77656207,\n",
              "       1.56667277, 2.28524222, 1.2905738 , 1.12431087, 1.96682203,\n",
              "       2.41081183, 1.96682203, 2.20286958, 1.76057083, 2.41081183,\n",
              "       1.96682203, 1.77656207, 1.40151429, 2.4911711 , 1.77656207,\n",
              "       1.45079662, 1.98454052, 1.96682203, 1.77656207, 2.28524222,\n",
              "       1.96682203, 2.28524222, 1.12431087, 1.98454052, 1.76057083,\n",
              "       2.41081183, 2.4911711 , 1.86381765, 2.20286958, 1.56667277,\n",
              "       1.77656207, 2.28524222])"
            ]
          },
          "metadata": {},
          "execution_count": 149
        }
      ]
    },
    {
      "cell_type": "code",
      "source": [
        "#Getting evaluation metrics for Lasso\n",
        "evaluation_metrics(y_pred_lasso)"
      ],
      "metadata": {
        "colab": {
          "base_uri": "https://localhost:8080/"
        },
        "id": "cq_ywcRNx71i",
        "outputId": "f90d87e9-af62-4db1-f32b-95b02af1f9e9"
      },
      "execution_count": 150,
      "outputs": [
        {
          "output_type": "stream",
          "name": "stdout",
          "text": [
            "Mean Squared Error:  0.02299099845282691\n",
            "Root Mean Squared Error:  0.15162782875457562\n",
            "R2:  0.8765798235457534\n",
            "Adjusted R2:  0.777843682382356\n"
          ]
        }
      ]
    },
    {
      "cell_type": "code",
      "source": [
        "test_df['Lasso Predicted Closing Price'] = 10**y_pred_lasso\n",
        "lasso_df = test_df.loc[:,['Actual Closing Price','Lasso Predicted Closing Price']]\n",
        "lasso_df.head(3)"
      ],
      "metadata": {
        "colab": {
          "base_uri": "https://localhost:8080/",
          "height": 175
        },
        "id": "eYLDfBZvx-h1",
        "outputId": "9f8e24e3-34cd-45b6-d8db-dc3495fe6f7b"
      },
      "execution_count": 151,
      "outputs": [
        {
          "output_type": "execute_result",
          "data": {
            "text/plain": [
              "            Actual Closing Price  Lasso Predicted Closing Price\n",
              "Date                                                           \n",
              "2008-04-01                 34.06                      25.206601\n",
              "2015-12-01                145.23                     159.539999\n",
              "2019-12-01                 46.95                      92.645009"
            ],
            "text/html": [
              "\n",
              "  <div id=\"df-7257617b-5a6c-43d5-9862-e7061a2c7724\">\n",
              "    <div class=\"colab-df-container\">\n",
              "      <div>\n",
              "<style scoped>\n",
              "    .dataframe tbody tr th:only-of-type {\n",
              "        vertical-align: middle;\n",
              "    }\n",
              "\n",
              "    .dataframe tbody tr th {\n",
              "        vertical-align: top;\n",
              "    }\n",
              "\n",
              "    .dataframe thead th {\n",
              "        text-align: right;\n",
              "    }\n",
              "</style>\n",
              "<table border=\"1\" class=\"dataframe\">\n",
              "  <thead>\n",
              "    <tr style=\"text-align: right;\">\n",
              "      <th></th>\n",
              "      <th>Actual Closing Price</th>\n",
              "      <th>Lasso Predicted Closing Price</th>\n",
              "    </tr>\n",
              "    <tr>\n",
              "      <th>Date</th>\n",
              "      <th></th>\n",
              "      <th></th>\n",
              "    </tr>\n",
              "  </thead>\n",
              "  <tbody>\n",
              "    <tr>\n",
              "      <th>2008-04-01</th>\n",
              "      <td>34.06</td>\n",
              "      <td>25.206601</td>\n",
              "    </tr>\n",
              "    <tr>\n",
              "      <th>2015-12-01</th>\n",
              "      <td>145.23</td>\n",
              "      <td>159.539999</td>\n",
              "    </tr>\n",
              "    <tr>\n",
              "      <th>2019-12-01</th>\n",
              "      <td>46.95</td>\n",
              "      <td>92.645009</td>\n",
              "    </tr>\n",
              "  </tbody>\n",
              "</table>\n",
              "</div>\n",
              "      <button class=\"colab-df-convert\" onclick=\"convertToInteractive('df-7257617b-5a6c-43d5-9862-e7061a2c7724')\"\n",
              "              title=\"Convert this dataframe to an interactive table.\"\n",
              "              style=\"display:none;\">\n",
              "        \n",
              "  <svg xmlns=\"http://www.w3.org/2000/svg\" height=\"24px\"viewBox=\"0 0 24 24\"\n",
              "       width=\"24px\">\n",
              "    <path d=\"M0 0h24v24H0V0z\" fill=\"none\"/>\n",
              "    <path d=\"M18.56 5.44l.94 2.06.94-2.06 2.06-.94-2.06-.94-.94-2.06-.94 2.06-2.06.94zm-11 1L8.5 8.5l.94-2.06 2.06-.94-2.06-.94L8.5 2.5l-.94 2.06-2.06.94zm10 10l.94 2.06.94-2.06 2.06-.94-2.06-.94-.94-2.06-.94 2.06-2.06.94z\"/><path d=\"M17.41 7.96l-1.37-1.37c-.4-.4-.92-.59-1.43-.59-.52 0-1.04.2-1.43.59L10.3 9.45l-7.72 7.72c-.78.78-.78 2.05 0 2.83L4 21.41c.39.39.9.59 1.41.59.51 0 1.02-.2 1.41-.59l7.78-7.78 2.81-2.81c.8-.78.8-2.07 0-2.86zM5.41 20L4 18.59l7.72-7.72 1.47 1.35L5.41 20z\"/>\n",
              "  </svg>\n",
              "      </button>\n",
              "      \n",
              "  <style>\n",
              "    .colab-df-container {\n",
              "      display:flex;\n",
              "      flex-wrap:wrap;\n",
              "      gap: 12px;\n",
              "    }\n",
              "\n",
              "    .colab-df-convert {\n",
              "      background-color: #E8F0FE;\n",
              "      border: none;\n",
              "      border-radius: 50%;\n",
              "      cursor: pointer;\n",
              "      display: none;\n",
              "      fill: #1967D2;\n",
              "      height: 32px;\n",
              "      padding: 0 0 0 0;\n",
              "      width: 32px;\n",
              "    }\n",
              "\n",
              "    .colab-df-convert:hover {\n",
              "      background-color: #E2EBFA;\n",
              "      box-shadow: 0px 1px 2px rgba(60, 64, 67, 0.3), 0px 1px 3px 1px rgba(60, 64, 67, 0.15);\n",
              "      fill: #174EA6;\n",
              "    }\n",
              "\n",
              "    [theme=dark] .colab-df-convert {\n",
              "      background-color: #3B4455;\n",
              "      fill: #D2E3FC;\n",
              "    }\n",
              "\n",
              "    [theme=dark] .colab-df-convert:hover {\n",
              "      background-color: #434B5C;\n",
              "      box-shadow: 0px 1px 3px 1px rgba(0, 0, 0, 0.15);\n",
              "      filter: drop-shadow(0px 1px 2px rgba(0, 0, 0, 0.3));\n",
              "      fill: #FFFFFF;\n",
              "    }\n",
              "  </style>\n",
              "\n",
              "      <script>\n",
              "        const buttonEl =\n",
              "          document.querySelector('#df-7257617b-5a6c-43d5-9862-e7061a2c7724 button.colab-df-convert');\n",
              "        buttonEl.style.display =\n",
              "          google.colab.kernel.accessAllowed ? 'block' : 'none';\n",
              "\n",
              "        async function convertToInteractive(key) {\n",
              "          const element = document.querySelector('#df-7257617b-5a6c-43d5-9862-e7061a2c7724');\n",
              "          const dataTable =\n",
              "            await google.colab.kernel.invokeFunction('convertToInteractive',\n",
              "                                                     [key], {});\n",
              "          if (!dataTable) return;\n",
              "\n",
              "          const docLinkHtml = 'Like what you see? Visit the ' +\n",
              "            '<a target=\"_blank\" href=https://colab.research.google.com/notebooks/data_table.ipynb>data table notebook</a>'\n",
              "            + ' to learn more about interactive tables.';\n",
              "          element.innerHTML = '';\n",
              "          dataTable['output_type'] = 'display_data';\n",
              "          await google.colab.output.renderOutput(dataTable, element);\n",
              "          const docLink = document.createElement('div');\n",
              "          docLink.innerHTML = docLinkHtml;\n",
              "          element.appendChild(docLink);\n",
              "        }\n",
              "      </script>\n",
              "    </div>\n",
              "  </div>\n",
              "  "
            ]
          },
          "metadata": {},
          "execution_count": 151
        }
      ]
    },
    {
      "cell_type": "code",
      "source": [
        "#Graph between Actual Close price and Lasso Predicted Price\n",
        "lasso_df.plot(figsize=(16,8))   \n",
        "plt.grid(True)\n",
        "plt.xlabel('counts',fontsize = 14)\n",
        "plt.ylabel('Price (₹)',fontsize = 14)\n",
        "plt.title('Actual closing price vs Lasso Predicted Price by Linear Regression')\n",
        "plt.show()\n",
        "test_df.shape"
      ],
      "metadata": {
        "colab": {
          "base_uri": "https://localhost:8080/",
          "height": 502
        },
        "id": "bFXCWcDbyIDi",
        "outputId": "9daaf6d5-e3de-431d-a770-79786fa15c9e"
      },
      "execution_count": 159,
      "outputs": [
        {
          "output_type": "display_data",
          "data": {
            "text/plain": [
              "<Figure size 1152x576 with 1 Axes>"
            ],
            "image/png": "[encoded data removed]"
          },
          "metadata": {
            "needs_background": "light"
          }
        },
        {
          "output_type": "execute_result",
          "data": {
            "text/plain": [
              "(37, 4)"
            ]
          },
          "metadata": {},
          "execution_count": 159
        }
      ]
    },
    {
      "cell_type": "markdown",
      "source": [
        "## Over all graphical representation between Actual Closing Price and Predicted Closing Price by All Algorithms."
      ],
      "metadata": {
        "id": "XRqlfnA-KAxZ"
      }
    },
    {
      "cell_type": "code",
      "source": [
        "#Graph between Actual Close price and Predicted Price by All Algorithms.\n",
        "test_df.plot(figsize = (14,6))\n",
        "plt.grid(True)\n",
        "plt.xlabel('Date',fontsize = 14)\n",
        "plt.ylabel('Price (₹)',fontsize = 14)\n",
        "plt.title('Actual closing price vs Predicted Price By All Algorthms',fontweight = 'bold',fontsize = 14)\n",
        "plt.legend()\n",
        "plt.show()"
      ],
      "metadata": {
        "colab": {
          "base_uri": "https://localhost:8080/",
          "height": 388
        },
        "id": "_6QIAM6_KKVi",
        "outputId": "8a8fcfcd-bc34-4f97-9450-7dbe1244ea96"
      },
      "execution_count": 153,
      "outputs": [
        {
          "output_type": "display_data",
          "data": {
            "text/plain": [
              "<Figure size 1008x432 with 1 Axes>"
            ],
            "image/png": "[encoded data removed]"
          },
          "metadata": {
            "needs_background": "light"
          }
        }
      ]
    },
    {
      "cell_type": "markdown",
      "source": [
        "# Comparision of All Algorithm"
      ],
      "metadata": {
        "id": "rQwajO58OnFY"
      }
    },
    {
      "cell_type": "code",
      "source": [
        "#Comparison between algorithms \n",
        "accuracy_list = ['MSE','RMSE',\"R2\",\"Adjusted_R2\"]\n",
        "reg_models = [lin_reg,ridge,lasso]\n",
        "\n",
        "def error_matrix(Y):\n",
        "  MSE = mean_squared_error(y_test,Y)\n",
        "  RMSE = np.sqrt(MSE)\n",
        "  r_2 = r2_score(y_test,Y)\n",
        "  adj_r2 = 1-(1-r2_score(y_test,Y))*(X_test.shape[0]-1)/((X_test.shape[0]-X_test.shape[1]-1))\n",
        "\n",
        "  return MSE,RMSE,r_2,adj_r2\n",
        "\n",
        "def training_accuracy(models):\n",
        "  train_accuracy = []\n",
        "  for model in reg_models:\n",
        "    model.fit(X_train,y_train)\n",
        "    train_accuracy.append(model.score(X_train,y_train))\n",
        "  return train_accuracy\n",
        "\n",
        "\n",
        "\n",
        "accuracy_df = pd.DataFrame(index = accuracy_list)\n",
        "accuracy_df['Linear Regression'] = error_matrix(y_pred)\n",
        "accuracy_df['Ridge'] = error_matrix(y_pred_ridge)\n",
        "accuracy_df['Lasso'] = error_matrix(y_pred_lasso)\n",
        "accuracy_df.loc['Training Accuracy'] = training_accuracy(reg_models)\n",
        "accuracy_df"
      ],
      "metadata": {
        "colab": {
          "base_uri": "https://localhost:8080/",
          "height": 206
        },
        "id": "l-50Sm48NLRA",
        "outputId": "bf73e2f2-13d0-4ebb-de33-19d9f6c086a0"
      },
      "execution_count": 157,
      "outputs": [
        {
          "output_type": "execute_result",
          "data": {
            "text/plain": [
              "                   Linear Regression     Ridge     Lasso\n",
              "MSE                         0.023821  0.023035  0.022991\n",
              "RMSE                        0.154342  0.151774  0.151628\n",
              "R2                          0.872123  0.876342  0.876580\n",
              "Adjusted_R2                 0.769821  0.777416  0.777844\n",
              "Training Accuracy           0.899740  0.901353  0.000000"
            ],
            "text/html": [
              "\n",
              "  <div id=\"df-da771d7e-7dc7-4e8d-8ba8-61b1ce67a1d6\">\n",
              "    <div class=\"colab-df-container\">\n",
              "      <div>\n",
              "<style scoped>\n",
              "    .dataframe tbody tr th:only-of-type {\n",
              "        vertical-align: middle;\n",
              "    }\n",
              "\n",
              "    .dataframe tbody tr th {\n",
              "        vertical-align: top;\n",
              "    }\n",
              "\n",
              "    .dataframe thead th {\n",
              "        text-align: right;\n",
              "    }\n",
              "</style>\n",
              "<table border=\"1\" class=\"dataframe\">\n",
              "  <thead>\n",
              "    <tr style=\"text-align: right;\">\n",
              "      <th></th>\n",
              "      <th>Linear Regression</th>\n",
              "      <th>Ridge</th>\n",
              "      <th>Lasso</th>\n",
              "    </tr>\n",
              "  </thead>\n",
              "  <tbody>\n",
              "    <tr>\n",
              "      <th>MSE</th>\n",
              "      <td>0.023821</td>\n",
              "      <td>0.023035</td>\n",
              "      <td>0.022991</td>\n",
              "    </tr>\n",
              "    <tr>\n",
              "      <th>RMSE</th>\n",
              "      <td>0.154342</td>\n",
              "      <td>0.151774</td>\n",
              "      <td>0.151628</td>\n",
              "    </tr>\n",
              "    <tr>\n",
              "      <th>R2</th>\n",
              "      <td>0.872123</td>\n",
              "      <td>0.876342</td>\n",
              "      <td>0.876580</td>\n",
              "    </tr>\n",
              "    <tr>\n",
              "      <th>Adjusted_R2</th>\n",
              "      <td>0.769821</td>\n",
              "      <td>0.777416</td>\n",
              "      <td>0.777844</td>\n",
              "    </tr>\n",
              "    <tr>\n",
              "      <th>Training Accuracy</th>\n",
              "      <td>0.899740</td>\n",
              "      <td>0.901353</td>\n",
              "      <td>0.000000</td>\n",
              "    </tr>\n",
              "  </tbody>\n",
              "</table>\n",
              "</div>\n",
              "      <button class=\"colab-df-convert\" onclick=\"convertToInteractive('df-da771d7e-7dc7-4e8d-8ba8-61b1ce67a1d6')\"\n",
              "              title=\"Convert this dataframe to an interactive table.\"\n",
              "              style=\"display:none;\">\n",
              "        \n",
              "  <svg xmlns=\"http://www.w3.org/2000/svg\" height=\"24px\"viewBox=\"0 0 24 24\"\n",
              "       width=\"24px\">\n",
              "    <path d=\"M0 0h24v24H0V0z\" fill=\"none\"/>\n",
              "    <path d=\"M18.56 5.44l.94 2.06.94-2.06 2.06-.94-2.06-.94-.94-2.06-.94 2.06-2.06.94zm-11 1L8.5 8.5l.94-2.06 2.06-.94-2.06-.94L8.5 2.5l-.94 2.06-2.06.94zm10 10l.94 2.06.94-2.06 2.06-.94-2.06-.94-.94-2.06-.94 2.06-2.06.94z\"/><path d=\"M17.41 7.96l-1.37-1.37c-.4-.4-.92-.59-1.43-.59-.52 0-1.04.2-1.43.59L10.3 9.45l-7.72 7.72c-.78.78-.78 2.05 0 2.83L4 21.41c.39.39.9.59 1.41.59.51 0 1.02-.2 1.41-.59l7.78-7.78 2.81-2.81c.8-.78.8-2.07 0-2.86zM5.41 20L4 18.59l7.72-7.72 1.47 1.35L5.41 20z\"/>\n",
              "  </svg>\n",
              "      </button>\n",
              "      \n",
              "  <style>\n",
              "    .colab-df-container {\n",
              "      display:flex;\n",
              "      flex-wrap:wrap;\n",
              "      gap: 12px;\n",
              "    }\n",
              "\n",
              "    .colab-df-convert {\n",
              "      background-color: #E8F0FE;\n",
              "      border: none;\n",
              "      border-radius: 50%;\n",
              "      cursor: pointer;\n",
              "      display: none;\n",
              "      fill: #1967D2;\n",
              "      height: 32px;\n",
              "      padding: 0 0 0 0;\n",
              "      width: 32px;\n",
              "    }\n",
              "\n",
              "    .colab-df-convert:hover {\n",
              "      background-color: #E2EBFA;\n",
              "      box-shadow: 0px 1px 2px rgba(60, 64, 67, 0.3), 0px 1px 3px 1px rgba(60, 64, 67, 0.15);\n",
              "      fill: #174EA6;\n",
              "    }\n",
              "\n",
              "    [theme=dark] .colab-df-convert {\n",
              "      background-color: #3B4455;\n",
              "      fill: #D2E3FC;\n",
              "    }\n",
              "\n",
              "    [theme=dark] .colab-df-convert:hover {\n",
              "      background-color: #434B5C;\n",
              "      box-shadow: 0px 1px 3px 1px rgba(0, 0, 0, 0.15);\n",
              "      filter: drop-shadow(0px 1px 2px rgba(0, 0, 0, 0.3));\n",
              "      fill: #FFFFFF;\n",
              "    }\n",
              "  </style>\n",
              "\n",
              "      <script>\n",
              "        const buttonEl =\n",
              "          document.querySelector('#df-da771d7e-7dc7-4e8d-8ba8-61b1ce67a1d6 button.colab-df-convert');\n",
              "        buttonEl.style.display =\n",
              "          google.colab.kernel.accessAllowed ? 'block' : 'none';\n",
              "\n",
              "        async function convertToInteractive(key) {\n",
              "          const element = document.querySelector('#df-da771d7e-7dc7-4e8d-8ba8-61b1ce67a1d6');\n",
              "          const dataTable =\n",
              "            await google.colab.kernel.invokeFunction('convertToInteractive',\n",
              "                                                     [key], {});\n",
              "          if (!dataTable) return;\n",
              "\n",
              "          const docLinkHtml = 'Like what you see? Visit the ' +\n",
              "            '<a target=\"_blank\" href=https://colab.research.google.com/notebooks/data_table.ipynb>data table notebook</a>'\n",
              "            + ' to learn more about interactive tables.';\n",
              "          element.innerHTML = '';\n",
              "          dataTable['output_type'] = 'display_data';\n",
              "          await google.colab.output.renderOutput(dataTable, element);\n",
              "          const docLink = document.createElement('div');\n",
              "          docLink.innerHTML = docLinkHtml;\n",
              "          element.appendChild(docLink);\n",
              "        }\n",
              "      </script>\n",
              "    </div>\n",
              "  </div>\n",
              "  "
            ]
          },
          "metadata": {},
          "execution_count": 157
        }
      ]
    },
    {
      "cell_type": "markdown",
      "source": [
        "## Conclusion\n",
        "Target Variable is strongly dependent on Independent Variables.\n",
        "Linear Regression and Ridge are performing better than other models with training accuracy 89.9% and 90.13% respectively.\n",
        "\n",
        "Apart from Linear Regression and Lasso, Ridge and Elastic Net is also performing better but they have less training accuracy.\n",
        "\n",
        "Ridge and ElasticNet is performing far much better after Applying Hyperparameter Tuning and Cross validation, it is because we have small set of datasets.\n",
        "\n",
        "R2 and Adjusted R2 are around 87 and 76% in each model."
      ],
      "metadata": {
        "id": "SfuzqnadNyWi"
      }
    }
  ]
}